{
 "cells": [
  {
   "cell_type": "markdown",
   "metadata": {},
   "source": [
    "# Abstract"
   ]
  },
  {
   "cell_type": "markdown",
   "metadata": {},
   "source": [
    "## Table of Contents\n",
    "1. [Introduction](#section1)\n",
    "2. [Importing and Cleaning Data](#section2)\n",
    "3. [Exploratory Data Analysis](#section3)"
   ]
  },
  {
   "cell_type": "markdown",
   "metadata": {},
   "source": [
    "<a id='section1'></a>\n",
    "## Introduction"
   ]
  },
  {
   "cell_type": "markdown",
   "metadata": {},
   "source": []
  },
  {
   "cell_type": "markdown",
   "metadata": {},
   "source": [
    "<a id='section2'></a>\n",
    "## Importing and Cleaning Data"
   ]
  },
  {
   "cell_type": "code",
   "execution_count": 98,
   "metadata": {},
   "outputs": [],
   "source": [
    "import pandas as pd\n",
    "import numpy as np\n",
    "from scipy.fftpack import fft\n",
    "from random import shuffle\n",
    "from scipy.signal import find_peaks\n",
    "import matplotlib.pyplot as plt\n",
    "from ipywidgets import interact, interact_manual\n",
    "from scipy.signal import welch, periodogram\n",
    "from librosa.feature import zero_crossing_rate\n",
    "from sklearn.decomposition import PCA\n",
    "from sklearn import preprocessing\n",
    "from scipy.stats import gaussian_kde\n",
    "from matplotlib.ticker import MultipleLocator\n",
    "import time\n",
    "import seaborn as sns\n",
    "from sklearn.model_selection import train_test_split\n",
    "import pywt\n",
    "from sklearn.ensemble import RandomForestClassifier\n",
    "from sklearn.metrics import classification_report\n",
    "from sklearn.naive_bayes import GaussianNB\n",
    "from sklearn.svm import SVC\n",
    "from sklearn.preprocessing import StandardScaler\n",
    "from sklearn.model_selection import StratifiedShuffleSplit\n",
    "from sklearn.model_selection import GridSearchCV\n",
    "from sklearn.neighbors import KNeighborsClassifier\n",
    "from sklearn.tree import DecisionTreeClassifier"
   ]
  },
  {
   "cell_type": "markdown",
   "metadata": {},
   "source": [
    "I'll preview the data first."
   ]
  },
  {
   "cell_type": "code",
   "execution_count": 3,
   "metadata": {},
   "outputs": [],
   "source": [
    "features = pd.read_csv('X_train.csv')\n",
    "target = pd.read_csv('y_train.csv')\n",
    "df = pd.merge(target, features, how = 'outer', left_on = 'series_id', right_on = 'series_id')"
   ]
  },
  {
   "cell_type": "code",
   "execution_count": 4,
   "metadata": {},
   "outputs": [
    {
     "data": {
      "text/html": [
       "<div>\n",
       "<style scoped>\n",
       "    .dataframe tbody tr th:only-of-type {\n",
       "        vertical-align: middle;\n",
       "    }\n",
       "\n",
       "    .dataframe tbody tr th {\n",
       "        vertical-align: top;\n",
       "    }\n",
       "\n",
       "    .dataframe thead th {\n",
       "        text-align: right;\n",
       "    }\n",
       "</style>\n",
       "<table border=\"1\" class=\"dataframe\">\n",
       "  <thead>\n",
       "    <tr style=\"text-align: right;\">\n",
       "      <th></th>\n",
       "      <th>series_id</th>\n",
       "      <th>group_id</th>\n",
       "      <th>surface</th>\n",
       "      <th>row_id</th>\n",
       "      <th>measurement_number</th>\n",
       "      <th>orientation_X</th>\n",
       "      <th>orientation_Y</th>\n",
       "      <th>orientation_Z</th>\n",
       "      <th>orientation_W</th>\n",
       "      <th>angular_velocity_X</th>\n",
       "      <th>angular_velocity_Y</th>\n",
       "      <th>angular_velocity_Z</th>\n",
       "      <th>linear_acceleration_X</th>\n",
       "      <th>linear_acceleration_Y</th>\n",
       "      <th>linear_acceleration_Z</th>\n",
       "    </tr>\n",
       "  </thead>\n",
       "  <tbody>\n",
       "    <tr>\n",
       "      <th>487675</th>\n",
       "      <td>3809</td>\n",
       "      <td>56</td>\n",
       "      <td>soft_pvc</td>\n",
       "      <td>3809_123</td>\n",
       "      <td>123</td>\n",
       "      <td>0.62871</td>\n",
       "      <td>-0.76878</td>\n",
       "      <td>-0.084391</td>\n",
       "      <td>0.081093</td>\n",
       "      <td>0.003167</td>\n",
       "      <td>0.093760</td>\n",
       "      <td>-0.14274</td>\n",
       "      <td>3.27180</td>\n",
       "      <td>2.0115</td>\n",
       "      <td>-9.0063</td>\n",
       "    </tr>\n",
       "    <tr>\n",
       "      <th>487676</th>\n",
       "      <td>3809</td>\n",
       "      <td>56</td>\n",
       "      <td>soft_pvc</td>\n",
       "      <td>3809_124</td>\n",
       "      <td>124</td>\n",
       "      <td>0.62884</td>\n",
       "      <td>-0.76868</td>\n",
       "      <td>-0.084365</td>\n",
       "      <td>0.081099</td>\n",
       "      <td>0.014994</td>\n",
       "      <td>0.032637</td>\n",
       "      <td>-0.13238</td>\n",
       "      <td>4.42750</td>\n",
       "      <td>3.0696</td>\n",
       "      <td>-8.1257</td>\n",
       "    </tr>\n",
       "    <tr>\n",
       "      <th>487677</th>\n",
       "      <td>3809</td>\n",
       "      <td>56</td>\n",
       "      <td>soft_pvc</td>\n",
       "      <td>3809_125</td>\n",
       "      <td>125</td>\n",
       "      <td>0.62891</td>\n",
       "      <td>-0.76861</td>\n",
       "      <td>-0.084345</td>\n",
       "      <td>0.081178</td>\n",
       "      <td>-0.031184</td>\n",
       "      <td>-0.003961</td>\n",
       "      <td>-0.13894</td>\n",
       "      <td>2.70480</td>\n",
       "      <td>4.2622</td>\n",
       "      <td>-8.1443</td>\n",
       "    </tr>\n",
       "    <tr>\n",
       "      <th>487678</th>\n",
       "      <td>3809</td>\n",
       "      <td>56</td>\n",
       "      <td>soft_pvc</td>\n",
       "      <td>3809_126</td>\n",
       "      <td>126</td>\n",
       "      <td>0.62903</td>\n",
       "      <td>-0.76850</td>\n",
       "      <td>-0.084414</td>\n",
       "      <td>0.081231</td>\n",
       "      <td>-0.069153</td>\n",
       "      <td>0.013229</td>\n",
       "      <td>-0.13021</td>\n",
       "      <td>2.54100</td>\n",
       "      <td>4.7130</td>\n",
       "      <td>-9.4435</td>\n",
       "    </tr>\n",
       "    <tr>\n",
       "      <th>487679</th>\n",
       "      <td>3809</td>\n",
       "      <td>56</td>\n",
       "      <td>soft_pvc</td>\n",
       "      <td>3809_127</td>\n",
       "      <td>127</td>\n",
       "      <td>0.62915</td>\n",
       "      <td>-0.76839</td>\n",
       "      <td>-0.084441</td>\n",
       "      <td>0.081284</td>\n",
       "      <td>-0.042769</td>\n",
       "      <td>0.034049</td>\n",
       "      <td>-0.12580</td>\n",
       "      <td>0.82391</td>\n",
       "      <td>4.2751</td>\n",
       "      <td>-10.4980</td>\n",
       "    </tr>\n",
       "  </tbody>\n",
       "</table>\n",
       "</div>"
      ],
      "text/plain": [
       "        series_id  group_id   surface    row_id  measurement_number  \\\n",
       "487675       3809        56  soft_pvc  3809_123                 123   \n",
       "487676       3809        56  soft_pvc  3809_124                 124   \n",
       "487677       3809        56  soft_pvc  3809_125                 125   \n",
       "487678       3809        56  soft_pvc  3809_126                 126   \n",
       "487679       3809        56  soft_pvc  3809_127                 127   \n",
       "\n",
       "        orientation_X  orientation_Y  orientation_Z  orientation_W  \\\n",
       "487675        0.62871       -0.76878      -0.084391       0.081093   \n",
       "487676        0.62884       -0.76868      -0.084365       0.081099   \n",
       "487677        0.62891       -0.76861      -0.084345       0.081178   \n",
       "487678        0.62903       -0.76850      -0.084414       0.081231   \n",
       "487679        0.62915       -0.76839      -0.084441       0.081284   \n",
       "\n",
       "        angular_velocity_X  angular_velocity_Y  angular_velocity_Z  \\\n",
       "487675            0.003167            0.093760            -0.14274   \n",
       "487676            0.014994            0.032637            -0.13238   \n",
       "487677           -0.031184           -0.003961            -0.13894   \n",
       "487678           -0.069153            0.013229            -0.13021   \n",
       "487679           -0.042769            0.034049            -0.12580   \n",
       "\n",
       "        linear_acceleration_X  linear_acceleration_Y  linear_acceleration_Z  \n",
       "487675                3.27180                 2.0115                -9.0063  \n",
       "487676                4.42750                 3.0696                -8.1257  \n",
       "487677                2.70480                 4.2622                -8.1443  \n",
       "487678                2.54100                 4.7130                -9.4435  \n",
       "487679                0.82391                 4.2751               -10.4980  "
      ]
     },
     "execution_count": 4,
     "metadata": {},
     "output_type": "execute_result"
    }
   ],
   "source": [
    "df.tail()"
   ]
  },
  {
   "cell_type": "code",
   "execution_count": null,
   "metadata": {
    "scrolled": true
   },
   "outputs": [],
   "source": [
    "features.groupby('series_id').mean().describe()"
   ]
  },
  {
   "cell_type": "code",
   "execution_count": 5,
   "metadata": {},
   "outputs": [],
   "source": [
    "surfaces = list(df.surface.unique())\n",
    "features = list(df.columns[9:])"
   ]
  },
  {
   "cell_type": "markdown",
   "metadata": {},
   "source": [
    "Since the data was recorded in groups, it is helpful to stitch it back together in order to better differentiate the underlying signals and upsample to increase the amount of training data. Upsampling can be done by slicing the data for 128 samples at every interval, since the original slicing was arbitrary to begin with.\n",
    "Stitching the data will also help to understand the holistic motion of the robot.\n",
    "\n",
    "The graph below shows how the data can stitched using location cues. Series are stitched together so that the last entry of a series in an orientation is continuous with the first entry of the same orientation in a different series. This is equivalent to moving the lines below so that they they form one continuous line."
   ]
  },
  {
   "cell_type": "code",
   "execution_count": null,
   "metadata": {
    "scrolled": false
   },
   "outputs": [],
   "source": [
    "g = df.groupby(by = 'group_id')\n",
    "g67 = g.get_group(67)\n",
    "g67_g = g67.groupby('series_id')\n",
    "f, axes = plt.subplots(2, 2, figsize = (12,8))\n",
    "axs = [axes[0,0], axes[0,1], axes[1,0], axes[1,1]]\n",
    "orientations = ['orientation_X','orientation_Y','orientation_Z','orientation_W']\n",
    "for name, group in g67_g:\n",
    "    for ax,orientation in zip(axs,orientations):\n",
    "        group[orientation].plot(label = name, ax=ax, title = orientation)"
   ]
  },
  {
   "cell_type": "code",
   "execution_count": 6,
   "metadata": {},
   "outputs": [],
   "source": [
    "def find_matches(current_signal, df, in_front = True, threshold = 0.01):\n",
    "    ## Returns a dataframe of the series ids, sums, and position (front/end) of the likely matches for the given front and end values.\n",
    "    orientations = ['orientation_X','orientation_Y','orientation_Z','orientation_W']\n",
    "    selection = ['series_id'] + orientations\n",
    "    if in_front:\n",
    "        end = current_signal.iloc[127][selection]\n",
    "        front = df.loc[df.measurement_number ==0][selection]\n",
    "    else:\n",
    "        front = current_signal.iloc[0][selection]\n",
    "        end = df.loc[df.measurement_number ==127][selection]\n",
    "    compare = (front-end).abs()\n",
    "    if in_front:\n",
    "        compare.series_id = front.series_id\n",
    "    else:\n",
    "        compare.series_id = end.series_id\n",
    "    compare['sums'] = compare[orientations].sum(axis=1)\n",
    "    compare['in_front'] = in_front\n",
    "    compare.drop(labels = orientations, axis = 1, inplace = True)\n",
    "    compare.sort_values(by = 'sums', inplace = True)\n",
    "    if any(compare.sums < threshold):\n",
    "        return compare.loc[compare.sums < threshold], True\n",
    "    else:\n",
    "        return 0,False"
   ]
  },
  {
   "cell_type": "code",
   "execution_count": null,
   "metadata": {
    "scrolled": true
   },
   "outputs": [],
   "source": [
    "series = 0\n",
    "signal = df.loc[df.series_id==series]\n",
    "candidates,match = find_matches(signal, df.loc[df.series_id != series], in_front = True)\n",
    "candidates"
   ]
  },
  {
   "cell_type": "code",
   "execution_count": 7,
   "metadata": {},
   "outputs": [
    {
     "data": {
      "text/plain": [
       "True"
      ]
     },
     "execution_count": 7,
     "metadata": {},
     "output_type": "execute_result"
    }
   ],
   "source": [
    "def continuity(current_signal, compare_signal, in_front = True, merge_threshold = 4, slope_threshold = 6):\n",
    "    orientations = ['orientation_X','orientation_Y','orientation_Z','orientation_W']\n",
    "    select = ['series_id'] + orientations\n",
    "    if in_front:\n",
    "        end = current_signal[select]\n",
    "        front = compare_signal[select]\n",
    "    else:\n",
    "        front = current_signal[select]\n",
    "        end = compare_signal[select]\n",
    "    stitched = pd.concat([end,front])\n",
    "    diff = stitched.diff()\n",
    "    \n",
    "    # Check for continuity based on difference at merge point\n",
    "    mean = diff[orientations].iloc[120:127].mean()\n",
    "    std = diff[orientations].iloc[120:127].std()\n",
    "    test = (diff[orientations].iloc[128]-mean)/std\n",
    "    if any(test.abs() > merge_threshold):\n",
    "        return False\n",
    "    \n",
    "    # Check for continuity based on slopes (t-test of means)\n",
    "    slope_front = diff[orientations].iloc[120:127].mean()\n",
    "    std_front = diff[orientations].iloc[120:127].std()\n",
    "    var_front = std_front.apply(np.square)\n",
    "    slope_end = diff[orientations].iloc[129:136].mean()\n",
    "    std_end = diff[orientations].iloc[129:136].std()\n",
    "    var_end = std_end.apply(np.square)\n",
    "    t_value = (slope_front-slope_end)/(var_front/8+var_end/8).apply(np.sqrt)\n",
    "    if any(t_value.abs() > slope_threshold):\n",
    "        return False\n",
    "    \n",
    "    return True\n",
    "current_signal = df.loc[df.series_id==47]\n",
    "compare_signal = df.loc[df.series_id==92]\n",
    "continuity(current_signal,compare_signal, in_front = True)"
   ]
  },
  {
   "cell_type": "code",
   "execution_count": 8,
   "metadata": {},
   "outputs": [],
   "source": [
    "def group_series(df, match_threshold = 0.01, continuity_thresholds = (4,6)):\n",
    "    df_c = df.copy()\n",
    "    # Create variables\n",
    "    lookup_dictionary = {}\n",
    "    new_group_id = -1\n",
    "    # Cycle through df\n",
    "    while len(df_c):\n",
    "        # Add new group to lookup dictionary\n",
    "        new_group_id +=1\n",
    "        lookup_dictionary[new_group_id] = []\n",
    "        # Start by selecting first available signal\n",
    "        start_series = df_c.series_id.unique()[0]\n",
    "        start_signal = df_c.loc[df_c.series_id==start_series]\n",
    "        current_signal = start_signal\n",
    "        # Add series to lookup dictionary\n",
    "        lookup_dictionary[new_group_id].append(start_series)\n",
    "        # Delete entry from df\n",
    "        indices =  start_signal.index\n",
    "        df_c.drop(indices,inplace = True)\n",
    "        # Prepare to expand forwards and backwards\n",
    "        expand_forward = True\n",
    "        expand_backward = True\n",
    "        # Expand signal forward first\n",
    "        while (expand_forward) & (len(df_c)>0):\n",
    "            candidates, match = find_matches(current_signal, \n",
    "                                             df_c, \n",
    "                                             in_front = True,\n",
    "                                             threshold = match_threshold)\n",
    "            continuity_tracker = []\n",
    "            if match:\n",
    "                for _,candidate in candidates.iterrows():\n",
    "                    compare_signal = df_c.loc[df_c.series_id == candidate.series_id]\n",
    "                    if continuity(current_signal, \n",
    "                                  compare_signal, \n",
    "                                  in_front = candidate.in_front,\n",
    "                                  merge_threshold = continuity_thresholds[0],\n",
    "                                  slope_threshold = continuity_thresholds[1]):\n",
    "                        current_series = candidate.series_id\n",
    "                        lookup_dictionary[new_group_id].append(current_series)\n",
    "                        current_signal = df_c.loc[df_c.series_id==current_series]\n",
    "                        df_c.drop(current_signal.index, inplace = True)\n",
    "                        continuity_tracker.append(True)\n",
    "                        break\n",
    "                    else:\n",
    "                        continuity_tracker.append(False)\n",
    "                if any(continuity_tracker):\n",
    "                    continue\n",
    "                else: # If nothing passed the continuity check then stop expanding forward\n",
    "                    expand_forward = False\n",
    "            else: # If no candidates, then stop expanding forward\n",
    "                expand_forward = False\n",
    "            # Clean variable space\n",
    "            del candidates,match\n",
    "        # Expand signal backwards\n",
    "        current_signal = start_signal\n",
    "        while (expand_backward) & (len(df_c)>0):\n",
    "            candidates, match = find_matches(current_signal, \n",
    "                                             df_c, \n",
    "                                             in_front = False,\n",
    "                                             threshold = match_threshold)\n",
    "            continuity_tracker = []\n",
    "            if match:\n",
    "                for _,candidate in candidates.iterrows():\n",
    "                    compare_signal = df_c.loc[df_c.series_id == candidate.series_id]\n",
    "                    if continuity(current_signal, \n",
    "                                  compare_signal, \n",
    "                                  in_front = candidate.in_front,\n",
    "                                  merge_threshold = continuity_thresholds[0],\n",
    "                                  slope_threshold = continuity_thresholds[1]):\n",
    "                        current_series = candidate.series_id\n",
    "                        lookup_dictionary[new_group_id].insert(0,current_series)\n",
    "                        current_signal = df_c.loc[df_c.series_id==current_series]\n",
    "                        df_c.drop(current_signal.index, inplace = True)\n",
    "                        continuity_tracker.append(True)\n",
    "                        break\n",
    "                    else:\n",
    "                        continuity_tracker.append(False)\n",
    "                if any(continuity_tracker):\n",
    "                    continue\n",
    "                else: # If nothing passed the continuity check then stop expanding forward\n",
    "                    expand_backward = False\n",
    "            else: # If no candidates, then stop expanding forward\n",
    "                expand_backward = False\n",
    "            # Clean variable space\n",
    "            del candidates, match\n",
    "            \n",
    "    return lookup_dictionary"
   ]
  },
  {
   "cell_type": "code",
   "execution_count": 9,
   "metadata": {},
   "outputs": [
    {
     "data": {
      "text/plain": [
       "301.93621921539307"
      ]
     },
     "execution_count": 9,
     "metadata": {},
     "output_type": "execute_result"
    }
   ],
   "source": [
    "start = time.time()\n",
    "test = group_series(df,match_threshold=0.05, continuity_thresholds=(9,10))\n",
    "stop = time.time()\n",
    "stop-start"
   ]
  },
  {
   "cell_type": "code",
   "execution_count": 10,
   "metadata": {
    "scrolled": false
   },
   "outputs": [],
   "source": [
    "def stitch_series(df,ordered_series_array):\n",
    "    osa = ordered_series_array\n",
    "    g = df.groupby('series_id')\n",
    "    sub_dfs = []\n",
    "    for series in osa:\n",
    "        temp_df = g.get_group(series)\n",
    "        sub_dfs.append(temp_df)\n",
    "    df_out = pd.concat(sub_dfs)\n",
    "    df_out.measurement_number = list(range(0,len(df_out)))\n",
    "    return df_out"
   ]
  },
  {
   "cell_type": "markdown",
   "metadata": {},
   "source": [
    "Now I'll make a new dataframe with the grouped series that I can analyze more closely."
   ]
  },
  {
   "cell_type": "code",
   "execution_count": null,
   "metadata": {
    "scrolled": false
   },
   "outputs": [],
   "source": [
    "sub_dfs = []\n",
    "for key, group in new_groups.items():\n",
    "    temp_df = stitch_series(df,group)\n",
    "    temp_df['new_group_id'] = key\n",
    "    sub_dfs.append(temp_df)\n",
    "stitched = pd.concat(sub_dfs)"
   ]
  },
  {
   "cell_type": "code",
   "execution_count": null,
   "metadata": {},
   "outputs": [],
   "source": [
    "stitched[stitched.new_group_id==0].surface.unique()"
   ]
  },
  {
   "cell_type": "code",
   "execution_count": null,
   "metadata": {},
   "outputs": [],
   "source": [
    "# Now I'll check to make sure that each new group is homogenous with regards to a surface\n",
    "g = stitched.groupby('new_group_id')\n",
    "surface_count = []\n",
    "sample_count = []\n",
    "for name, group in g:\n",
    "    surfaces = group.surface.unique()\n",
    "    surface_count.append(len(surfaces))\n",
    "    sample_count.append(len(group))\n",
    "print(max(surface_count))\n",
    "print(min(sample_count))\n",
    "print(max(sample_count))"
   ]
  },
  {
   "cell_type": "code",
   "execution_count": null,
   "metadata": {
    "scrolled": true
   },
   "outputs": [],
   "source": [
    "from matplotlib.ticker import MultipleLocator\n",
    "sub_stitched = stitched.loc[stitched.surface=='carpet']\n",
    "g = sub_stitched.groupby('new_group_id')\n",
    "for name,group in g:\n",
    "    data = group.orientation_X.values\n",
    "    f, ax = plt.subplots(figsize = (12,4))\n",
    "    plt.plot(data)\n",
    "    plt.title(name)\n",
    "    minorLocator = MultipleLocator(128)\n",
    "    ax.xaxis.set_minor_locator(minorLocator)\n",
    "    ax.grid(which = 'minor')\n",
    "    plt.show()"
   ]
  },
  {
   "cell_type": "markdown",
   "metadata": {},
   "source": [
    "I have reason to believe that the stitching put together groups that didn't exist before. The longest group that was stitched is 17920 samples long (140 series). I'll check to see if the original dataset has a group with an equal number of samples"
   ]
  },
  {
   "cell_type": "code",
   "execution_count": null,
   "metadata": {},
   "outputs": [],
   "source": [
    "g = stitched.groupby('group_id')\n",
    "sample_count = []\n",
    "for name, group in g:\n",
    "    surfaces = group.surface.unique()\n",
    "    surface_count.append(len(surfaces))\n",
    "    sample_count.append(len(group))\n",
    "print(max(sample_count))"
   ]
  },
  {
   "cell_type": "markdown",
   "metadata": {},
   "source": [
    "My suspicion is confirmed. The data was cut up into groups. It is possible that the test data was cut up from the train data, so I'll toss all of the data into one large dataframe and stitch it together. At worst, I'll have all of the data stitched. I can get rid of group_id and row_id since I won't be using those. I'll then make sure that series ids are unique between the groups, and merge the groups using \"no_surface\" as the surface for the unknown groups."
   ]
  },
  {
   "cell_type": "code",
   "execution_count": 11,
   "metadata": {
    "scrolled": true
   },
   "outputs": [],
   "source": [
    "X_test = pd.read_csv('X_test.csv')\n",
    "df.drop(['row_id','group_id'], axis = 1, inplace = True)\n",
    "df['orig_id'] = df.series_id\n",
    "df['test'] = 0\n",
    "X_test.drop(['row_id'], axis = 1, inplace = True)\n",
    "X_test['surface'] = 'no_surface'\n",
    "X_test['orig_id'] = X_test.series_id\n",
    "X_test['test'] = 1\n",
    "X_test.series_id += df.series_id.max()+1"
   ]
  },
  {
   "cell_type": "code",
   "execution_count": 12,
   "metadata": {
    "scrolled": true
   },
   "outputs": [],
   "source": [
    "all_data = pd.concat([df,X_test], sort=False, ignore_index=True)"
   ]
  },
  {
   "cell_type": "code",
   "execution_count": 13,
   "metadata": {},
   "outputs": [
    {
     "data": {
      "text/plain": [
       "934.8314960002899"
      ]
     },
     "execution_count": 13,
     "metadata": {},
     "output_type": "execute_result"
    }
   ],
   "source": [
    "start = time.time()\n",
    "groups = group_series(all_data,match_threshold=0.05, continuity_thresholds=(9,9))\n",
    "stop = time.time()\n",
    "stop-start"
   ]
  },
  {
   "cell_type": "code",
   "execution_count": 14,
   "metadata": {},
   "outputs": [],
   "source": [
    "sub_dfs = []\n",
    "for key, group in groups.items():\n",
    "    temp_df = stitch_series(all_data,group)\n",
    "    temp_df['new_group_id'] = key\n",
    "    sub_dfs.append(temp_df)\n",
    "all_stitched = pd.concat(sub_dfs)"
   ]
  },
  {
   "cell_type": "code",
   "execution_count": 15,
   "metadata": {},
   "outputs": [
    {
     "name": "stdout",
     "output_type": "stream",
     "text": [
      "3\n",
      "128\n",
      "86528\n"
     ]
    }
   ],
   "source": [
    "g = all_stitched.groupby('new_group_id')\n",
    "surface_count = []\n",
    "sample_count = []\n",
    "for name, group in g:\n",
    "    surfaces = group.surface.unique()\n",
    "    surface_count.append(len(surfaces))\n",
    "    sample_count.append(len(group))\n",
    "print(max(surface_count))\n",
    "print(min(sample_count))\n",
    "print(max(sample_count))"
   ]
  },
  {
   "cell_type": "code",
   "execution_count": 42,
   "metadata": {
    "scrolled": false
   },
   "outputs": [
    {
     "name": "stderr",
     "output_type": "stream",
     "text": [
      "/anaconda3/envs/learn-env/lib/python3.6/site-packages/pandas/core/generic.py:4405: SettingWithCopyWarning: \n",
      "A value is trying to be set on a copy of a slice from a DataFrame.\n",
      "Try using .loc[row_indexer,col_indexer] = value instead\n",
      "\n",
      "See the caveats in the documentation: http://pandas.pydata.org/pandas-docs/stable/indexing.html#indexing-view-versus-copy\n",
      "  self[name] = value\n"
     ]
    }
   ],
   "source": [
    "g = all_stitched.groupby('new_group_id')\n",
    "new_dfs = []\n",
    "error_surfaces = []\n",
    "error_group_ids = []\n",
    "matched = 0\n",
    "unmatched = 0\n",
    "for name, group in g:\n",
    "    surfaces = list(group.surface.unique())\n",
    "    if (len(surfaces)==2) & ('no_surface' in surfaces):\n",
    "        surfaces.remove('no_surface')\n",
    "        group.surface = surfaces[0]\n",
    "        new_dfs.append(group)\n",
    "        matched +=1\n",
    "    elif (len(surfaces)==2) & ('no_surface' not in surfaces):\n",
    "        error_surfaces.append(surfaces)\n",
    "        new_dfs.append(group)\n",
    "    elif (len(surfaces)==3):\n",
    "        error_surfaces.append(surfaces)\n",
    "        error_group_ids.append(name)\n",
    "        new_dfs.append(group)\n",
    "    else:\n",
    "        new_dfs.append(group)\n",
    "        if surfaces[0] == 'no_surface':\n",
    "            unmatched += 1\n",
    "sorted_data = pd.concat(new_dfs)\n",
    "sorted_data.reset_index(inplace=True, drop = True)"
   ]
  },
  {
   "cell_type": "code",
   "execution_count": 43,
   "metadata": {},
   "outputs": [
    {
     "data": {
      "text/plain": [
       "[2, 9, 27]"
      ]
     },
     "execution_count": 43,
     "metadata": {},
     "output_type": "execute_result"
    }
   ],
   "source": [
    "error_group_ids"
   ]
  },
  {
   "cell_type": "code",
   "execution_count": 65,
   "metadata": {
    "scrolled": true
   },
   "outputs": [
    {
     "data": {
      "image/png": "[encoded data removed]",
      "text/plain": [
       "<Figure size 432x288 with 1 Axes>"
      ]
     },
     "metadata": {
      "needs_background": "light"
     },
     "output_type": "display_data"
    }
   ],
   "source": [
    "g = sorted_data.groupby('new_group_id')\n",
    "error_group = g.get_group(2)\n",
    "sns.lineplot(x = error_group.index,y='orientation_Z',data = error_group, hue='surface');"
   ]
  },
  {
   "cell_type": "markdown",
   "metadata": {},
   "source": [
    "Some of the series were assigned surfaces because of the stitching, but about 30% of the series still need to be classified. Luckily, the majority of those series are stitched together into sets much longer than 1 series. I will classify each series individually, but then rely on the majority classification to make the final decision. If this works well on the training set then I can import it to the test set.\n",
    "\n",
    "I'll transform the data first, and then make a test/train set."
   ]
  },
  {
   "cell_type": "code",
   "execution_count": 58,
   "metadata": {},
   "outputs": [],
   "source": [
    "reassign = {1:{'surface':'concrete'},2:{'surface':'wood'},3:{'surface':'wood'}}"
   ]
  },
  {
   "cell_type": "code",
   "execution_count": 59,
   "metadata": {},
   "outputs": [
    {
     "data": {
      "text/plain": [
       "80000"
      ]
     },
     "execution_count": 59,
     "metadata": {},
     "output_type": "execute_result"
    }
   ],
   "source": [
    "reassign[1]['start'] = error_group[error_group.surface=='no_surface'].first_valid_index()\n",
    "reassign[1]['start']"
   ]
  },
  {
   "cell_type": "code",
   "execution_count": 60,
   "metadata": {},
   "outputs": [
    {
     "data": {
      "text/plain": [
       "94592"
      ]
     },
     "execution_count": 60,
     "metadata": {},
     "output_type": "execute_result"
    }
   ],
   "source": [
    "reassign[1]['end'] = error_group.loc[80000:][error_group.loc[80000:].surface == 'concrete'].first_valid_index()\n",
    "reassign[1]['end']"
   ]
  },
  {
   "cell_type": "code",
   "execution_count": 66,
   "metadata": {},
   "outputs": [
    {
     "data": {
      "text/plain": [
       "100992"
      ]
     },
     "execution_count": 66,
     "metadata": {},
     "output_type": "execute_result"
    }
   ],
   "source": [
    "reassign[2]['start'] = error_group.loc[94592:][error_group.loc[94592:].surface == 'no_surface'].first_valid_index()\n",
    "reassign[2]['start']"
   ]
  },
  {
   "cell_type": "code",
   "execution_count": 67,
   "metadata": {},
   "outputs": [
    {
     "data": {
      "text/plain": [
       "107648"
      ]
     },
     "execution_count": 67,
     "metadata": {},
     "output_type": "execute_result"
    }
   ],
   "source": [
    "reassign[2]['end'] = error_group.loc[100992:][error_group.loc[100992:].surface == 'wood'].first_valid_index()\n",
    "reassign[2]['end']"
   ]
  },
  {
   "cell_type": "code",
   "execution_count": 68,
   "metadata": {},
   "outputs": [
    {
     "data": {
      "text/plain": [
       "125568"
      ]
     },
     "execution_count": 68,
     "metadata": {},
     "output_type": "execute_result"
    }
   ],
   "source": [
    "reassign[3]['start'] = error_group.loc[107648:][error_group.loc[107648:].surface == 'no_surface'].first_valid_index()\n",
    "reassign[3]['start']"
   ]
  },
  {
   "cell_type": "code",
   "execution_count": 69,
   "metadata": {},
   "outputs": [
    {
     "data": {
      "text/plain": [
       "134528"
      ]
     },
     "execution_count": 69,
     "metadata": {},
     "output_type": "execute_result"
    }
   ],
   "source": [
    "reassign[3]['end'] = error_group.loc[125568:][error_group.loc[125568:].surface == 'wood'].first_valid_index()\n",
    "reassign[3]['end']"
   ]
  },
  {
   "cell_type": "code",
   "execution_count": 70,
   "metadata": {},
   "outputs": [
    {
     "data": {
      "text/plain": [
       "{1: {'surface': 'concrete', 'start': 80000, 'end': 94592},\n",
       " 2: {'surface': 'wood', 'end': 107648, 'start': 100992},\n",
       " 3: {'surface': 'wood', 'start': 125568, 'end': 134528}}"
      ]
     },
     "execution_count": 70,
     "metadata": {},
     "output_type": "execute_result"
    }
   ],
   "source": [
    "reassign"
   ]
  },
  {
   "cell_type": "code",
   "execution_count": 74,
   "metadata": {},
   "outputs": [],
   "source": [
    "for key,value in reassign.items():\n",
    "    sorted_data.iloc[value['start']:value['end'],1] = value['surface']"
   ]
  },
  {
   "cell_type": "code",
   "execution_count": 75,
   "metadata": {
    "scrolled": true
   },
   "outputs": [
    {
     "data": {
      "image/png": "[encoded data removed]",
      "text/plain": [
       "<Figure size 432x288 with 1 Axes>"
      ]
     },
     "metadata": {
      "needs_background": "light"
     },
     "output_type": "display_data"
    }
   ],
   "source": [
    "g = sorted_data.groupby('new_group_id')\n",
    "error_group = g.get_group(2)\n",
    "sns.lineplot(x = error_group.index,y='orientation_Z',data = error_group, hue='surface');"
   ]
  },
  {
   "cell_type": "markdown",
   "metadata": {},
   "source": [
    "Export the current matches to check their validity with Kaggle"
   ]
  },
  {
   "cell_type": "code",
   "execution_count": 76,
   "metadata": {
    "scrolled": true
   },
   "outputs": [
    {
     "data": {
      "text/html": [
       "<div>\n",
       "<style scoped>\n",
       "    .dataframe tbody tr th:only-of-type {\n",
       "        vertical-align: middle;\n",
       "    }\n",
       "\n",
       "    .dataframe tbody tr th {\n",
       "        vertical-align: top;\n",
       "    }\n",
       "\n",
       "    .dataframe thead th {\n",
       "        text-align: right;\n",
       "    }\n",
       "</style>\n",
       "<table border=\"1\" class=\"dataframe\">\n",
       "  <thead>\n",
       "    <tr style=\"text-align: right;\">\n",
       "      <th></th>\n",
       "      <th>series_id</th>\n",
       "      <th>surface</th>\n",
       "    </tr>\n",
       "  </thead>\n",
       "  <tbody>\n",
       "    <tr>\n",
       "      <th>0</th>\n",
       "      <td>0</td>\n",
       "      <td>hard_tiles_large_space</td>\n",
       "    </tr>\n",
       "    <tr>\n",
       "      <th>1</th>\n",
       "      <td>1</td>\n",
       "      <td>concrete</td>\n",
       "    </tr>\n",
       "    <tr>\n",
       "      <th>2</th>\n",
       "      <td>2</td>\n",
       "      <td>tiled</td>\n",
       "    </tr>\n",
       "    <tr>\n",
       "      <th>3</th>\n",
       "      <td>3</td>\n",
       "      <td>carpet</td>\n",
       "    </tr>\n",
       "    <tr>\n",
       "      <th>4</th>\n",
       "      <td>4</td>\n",
       "      <td>soft_tiles</td>\n",
       "    </tr>\n",
       "  </tbody>\n",
       "</table>\n",
       "</div>"
      ],
      "text/plain": [
       "   series_id                 surface\n",
       "0          0  hard_tiles_large_space\n",
       "1          1                concrete\n",
       "2          2                   tiled\n",
       "3          3                  carpet\n",
       "4          4              soft_tiles"
      ]
     },
     "execution_count": 76,
     "metadata": {},
     "output_type": "execute_result"
    }
   ],
   "source": [
    "groups = sorted_data[sorted_data.test == 1].groupby('orig_id')\n",
    "data = {'series_id':[],'surface':[]}\n",
    "for name, group in groups:\n",
    "    data['series_id'].append(name)\n",
    "    data['surface'].append(group.surface.iloc[0])\n",
    "output = pd.DataFrame(data)\n",
    "output.head()"
   ]
  },
  {
   "cell_type": "code",
   "execution_count": 77,
   "metadata": {},
   "outputs": [],
   "source": [
    "output.to_csv(path_or_buf = 'Submission4_preClassification.csv', \n",
    "              header = ['series_id','surface'],index=False)"
   ]
  },
  {
   "cell_type": "code",
   "execution_count": 78,
   "metadata": {},
   "outputs": [],
   "source": [
    "train_data = sorted_data[sorted_data.surface != 'no_surface']"
   ]
  },
  {
   "cell_type": "markdown",
   "metadata": {},
   "source": [
    "I need to engineer some features. Below are some functions to help me engineer these features."
   ]
  },
  {
   "cell_type": "code",
   "execution_count": 79,
   "metadata": {},
   "outputs": [],
   "source": [
    "def rms(data):\n",
    "    squared = np.square(data)\n",
    "    mean = np.mean(squared)\n",
    "    rms = np.sqrt(mean)\n",
    "    return rms"
   ]
  },
  {
   "cell_type": "code",
   "execution_count": 556,
   "metadata": {
    "scrolled": false
   },
   "outputs": [
    {
     "data": {
      "application/vnd.jupyter.widget-view+json": {
       "model_id": "74cb11d8a7fe494ab13a434c41229309",
       "version_major": 2,
       "version_minor": 0
      },
      "text/plain": [
       "interactive(children=(Dropdown(description='surface', options=('fine_concrete', 'concrete', 'wood', 'soft_tile…"
      ]
     },
     "metadata": {},
     "output_type": "display_data"
    }
   ],
   "source": [
    "surfaces = list(data.surface.unique())\n",
    "@interact_manual\n",
    "def plot_series(surface = surfaces, feature = features, center = (-12,12,0.1), width = (0.1,12,0.1), differencing = False):\n",
    "    surface_name = surface\n",
    "    surface = train_data.loc[train_data.surface == surface]\n",
    "    g = surface.groupby('new_group_id')\n",
    "    series = list(g.groups.keys())\n",
    "    plt.figure(figsize=(15,15))\n",
    "    for i,key in enumerate(series[0:4]):\n",
    "        ax = plt.subplot(2,2,(i+1))\n",
    "        if not differencing:\n",
    "            signal = g.get_group(key)[feature].values\n",
    "            title = surface_name.title().replace('_',' ')\n",
    "        else:\n",
    "            RMS = rms(g.get_group(key)[feature].diff(periods=1).dropna())\n",
    "            title = '{0}\\nRMS: {1:1.3f}'.format(surface_name.title().replace('_',' '),RMS)\n",
    "            signal = g.get_group(key)[feature].diff(periods=1).values\n",
    "        ax.plot(signal)\n",
    "        ax.set_title(title)\n",
    "        ax.set_ylim((center-width,center+width))"
   ]
  },
  {
   "cell_type": "code",
   "execution_count": 557,
   "metadata": {},
   "outputs": [
    {
     "data": {
      "application/vnd.jupyter.widget-view+json": {
       "model_id": "e2288d8930b643859801032f368cf0e7",
       "version_major": 2,
       "version_minor": 0
      },
      "text/plain": [
       "interactive(children=(Dropdown(description='surface', options=('fine_concrete', 'concrete', 'wood', 'soft_tile…"
      ]
     },
     "metadata": {},
     "output_type": "display_data"
    }
   ],
   "source": [
    "@interact_manual\n",
    "def plot_psd(surface = surfaces, feature = features, max = (0,15,0.25), differencing = False):\n",
    "    surface_name = surface\n",
    "    surface = train_data.loc[train_data.surface == surface]\n",
    "    g = surface.groupby('new_group_id')\n",
    "    series = list(g.groups.keys())\n",
    "    plt.figure(figsize=(12,8))\n",
    "    for i,key in enumerate(series[0:4]):\n",
    "        if not differencing:\n",
    "            signal = g.get_group(key)[feature].values\n",
    "            title = surface_name.title().replace('_',' ')\n",
    "            freq,psd = welch(signal)\n",
    "        else:\n",
    "            RMS = rms(g.get_group(key)[feature].diff(periods=1).dropna())\n",
    "            title = '{0}\\nRMS: {1:1.3f}'.format(surface_name.title().replace('_',' '),RMS)\n",
    "            signal = g.get_group(key)[feature].diff(periods=1).values\n",
    "            freq,psd = welch(signal)\n",
    "        plt.plot(freq,psd)\n",
    "    plt.title(title)\n",
    "    plt.ylim((0,max))"
   ]
  },
  {
   "cell_type": "markdown",
   "metadata": {},
   "source": [
    "The following is a description of the motion of the robot for each feature:<br>\n",
    "**angular_velocity_X:** How the robot wobbles front-to-back<br>\n",
    "**angular_velocity_Y:** How the robot wobbles left-to-right<br>\n",
    "**angular_velocity_Z:** How the robot pivots as it moves (one side advancing faster than the other momentarily)<br>\n",
    "**linear_acceleration_X:** How the robot strafes/skips left-to-right<br>\n",
    "**linear_acceleration_Y:** How the robot skips forwards-and-backwards (or how it slips and grips)<br>\n",
    "**linear_acceleration_Z:** How the robot bounces up-and-down<br>"
   ]
  },
  {
   "cell_type": "markdown",
   "metadata": {},
   "source": [
    "It appears that every feature has a somewhat unique \"jitter\" (peak in the PSD) for a given surface. Calculating this jitter allows me to transform the data from a time-domain to a frequency-domain, which reduces each run down to a single set of numbers."
   ]
  },
  {
   "cell_type": "code",
   "execution_count": 581,
   "metadata": {},
   "outputs": [],
   "source": [
    "def scalogram(data, title = None):\n",
    "    bottom = 0\n",
    "\n",
    "    vmin = min(map(lambda x: min(abs(x)), data))\n",
    "    vmax = max(map(lambda x: max(abs(x)), data))\n",
    "\n",
    "    plt.figure(figsize = (12,8))\n",
    "    #plt.set_autoscale_on(False)\n",
    "    for row in range(0, len(data)):\n",
    "        scale = 2.0 ** (row - len(data))\n",
    "\n",
    "        plt.imshow(\n",
    "            np.array([abs(data[row])]),\n",
    "            interpolation = 'spline36',\n",
    "            vmin = vmin,\n",
    "            vmax = vmax,\n",
    "            extent = [0, 1, bottom, bottom + scale])\n",
    "\n",
    "        bottom += scale\n",
    "    plt.colorbar()\n",
    "    plt.ylim(0,bottom)\n",
    "    if title:\n",
    "        plt.title(title)"
   ]
  },
  {
   "cell_type": "code",
   "execution_count": 585,
   "metadata": {},
   "outputs": [
    {
     "data": {
      "application/vnd.jupyter.widget-view+json": {
       "model_id": "e6424b9475864c5cbdd48271dff78bd4",
       "version_major": 2,
       "version_minor": 0
      },
      "text/plain": [
       "interactive(children=(Dropdown(description='series_id', options=(5177, 5243, 5873, 5521, 6817, 6955, 7504, 559…"
      ]
     },
     "metadata": {},
     "output_type": "display_data"
    }
   ],
   "source": [
    "@interact\n",
    "def plt_scalogram(series_id = sorted_data.series_id.unique()):\n",
    "    t1 = sorted_data[sorted_data.series_id==series_id]\n",
    "    coeffs = pywt.wavedec(t1.angular_velocity_X,'bior1.3',level = 4)\n",
    "    #coeffs[-1] = np.zeros_like(coeffs[-1])\n",
    "    scalogram(coeffs, title = t1.surface.iloc[0])"
   ]
  },
  {
   "cell_type": "code",
   "execution_count": 81,
   "metadata": {
    "scrolled": true
   },
   "outputs": [],
   "source": [
    "g = train_data.groupby('series_id')\n",
    "series = list(g.groups.keys())\n",
    "data = {}\n",
    "data['series_id'] = []\n",
    "data['new_group_id'] = []\n",
    "data['surface'] = []\n",
    "for s_key in series:\n",
    "    data['series_id'].append(s_key)\n",
    "    data['new_group_id'].append(g.get_group(s_key)['new_group_id'].iloc[0])\n",
    "    data['surface'].append(g.get_group(s_key)['surface'].iloc[0])\n",
    "    for feature in features:\n",
    "        # Get signal\n",
    "        signal = g.get_group(s_key)[feature]\n",
    "        signald = signal.diff(1).dropna()\n",
    "        # Set dictionary keys for time-based features\n",
    "        range_key = '{0}_range'.format(feature)\n",
    "        RMS_key = '{0}_RMS'.format(feature)\n",
    "        std_key = '{0}_std'.format(feature)\n",
    "        entropy_key = '{0}_entropy'.format(feature)\n",
    "        zc_key = '{0}_zc'.format(feature)\n",
    "        if range_key not in data.keys():\n",
    "            data[range_key] = []\n",
    "            data[RMS_key] = []\n",
    "            data[std_key] = []\n",
    "            data[entropy_key] = []\n",
    "            data[zc_key] = []\n",
    "        # Write time-based features\n",
    "        data[range_key].append(signald.max()-signald.min())\n",
    "        data[RMS_key].append(rms(signald))\n",
    "        data[std_key].append(signald.std())\n",
    "        data[zc_key].append(zero_crossing_rate(np.array(signald)))\n",
    "        # Calculate entropy (PSD is needed for entropy)\n",
    "        _,psd_values = welch(signal, nperseg = 64)\n",
    "        psd_values_normalized = psd_values/psd_values.sum()\n",
    "        entropy = -np.sum([i*np.log(i) for i in psd_values_normalized])\n",
    "        data[entropy_key].append(entropy)\n",
    "        coeffs = pywt.wavedec(signal,'bior1.3',1)\n",
    "        coeffs_ravel = pywt.ravel_coeffs(coeffs)\n",
    "        # Store coeff values\n",
    "        for i,value in enumerate(coeffs_ravel[0]):\n",
    "            # Store datum\n",
    "            y_key = '{0}_wt_{1}'.format(feature,i)\n",
    "            if y_key not in data.keys():\n",
    "                data[y_key] = []\n",
    "            data[y_key].append(value)\n",
    "        # Store psd values\n",
    "        for i,value in enumerate(psd_values):\n",
    "            # Store datum\n",
    "            y_key = '{0}_psd_{1}'.format(feature,i)\n",
    "            if y_key not in data.keys():\n",
    "                data[y_key] = []\n",
    "            data[y_key].append(value)"
   ]
  },
  {
   "cell_type": "code",
   "execution_count": 82,
   "metadata": {
    "scrolled": true
   },
   "outputs": [],
   "source": [
    "df2 = pd.DataFrame(data)"
   ]
  },
  {
   "cell_type": "code",
   "execution_count": 83,
   "metadata": {
    "scrolled": true
   },
   "outputs": [
    {
     "name": "stderr",
     "output_type": "stream",
     "text": [
      "/anaconda3/envs/learn-env/lib/python3.6/site-packages/pandas/core/frame.py:3697: SettingWithCopyWarning: \n",
      "A value is trying to be set on a copy of a slice from a DataFrame\n",
      "\n",
      "See the caveats in the documentation: http://pandas.pydata.org/pandas-docs/stable/indexing.html#indexing-view-versus-copy\n",
      "  errors=errors)\n"
     ]
    }
   ],
   "source": [
    "X = df2.drop(labels = ['surface'], axis = 1)\n",
    "y = df2.surface\n",
    "from sklearn.model_selection import train_test_split\n",
    "X_train, X_test, y_train, y_test = train_test_split(X, y, test_size=0.25, random_state=42)\n",
    "X_train.drop(labels = ['new_group_id','series_id'], axis = 1,inplace=True)"
   ]
  },
  {
   "cell_type": "markdown",
   "metadata": {},
   "source": [
    "Scale the data"
   ]
  },
  {
   "cell_type": "code",
   "execution_count": 89,
   "metadata": {},
   "outputs": [
    {
     "name": "stderr",
     "output_type": "stream",
     "text": [
      "/anaconda3/envs/learn-env/lib/python3.6/site-packages/sklearn/preprocessing/data.py:625: DataConversionWarning: Data with input dtype float64, object were all converted to float64 by StandardScaler.\n",
      "  return self.partial_fit(X, y)\n",
      "/anaconda3/envs/learn-env/lib/python3.6/site-packages/sklearn/base.py:462: DataConversionWarning: Data with input dtype float64, object were all converted to float64 by StandardScaler.\n",
      "  return self.fit(X, **fit_params).transform(X)\n",
      "/anaconda3/envs/learn-env/lib/python3.6/site-packages/ipykernel_launcher.py:3: DataConversionWarning: Data with input dtype float64, object were all converted to float64 by StandardScaler.\n",
      "  This is separate from the ipykernel package so we can avoid doing imports until\n"
     ]
    }
   ],
   "source": [
    "scaler = StandardScaler()\n",
    "X_train_scaled = scaler.fit_transform(X_train)\n",
    "X_test_scaled = scaler.transform(X_test[X_train.columns])"
   ]
  },
  {
   "cell_type": "markdown",
   "metadata": {},
   "source": [
    "Perform a random forest classification"
   ]
  },
  {
   "cell_type": "code",
   "execution_count": 91,
   "metadata": {},
   "outputs": [
    {
     "name": "stdout",
     "output_type": "stream",
     "text": [
      "                        precision    recall  f1-score   support\n",
      "\n",
      "                carpet       0.87      0.23      0.37        86\n",
      "              concrete       0.49      0.82      0.61       305\n",
      "         fine_concrete       0.48      0.19      0.27       203\n",
      "            hard_tiles       1.00      0.05      0.10        38\n",
      "hard_tiles_large_space       0.81      0.45      0.58       169\n",
      "              soft_pvc       0.55      0.84      0.67       326\n",
      "            soft_tiles       0.75      0.88      0.81       136\n",
      "                 tiled       0.51      0.32      0.39       173\n",
      "                  wood       0.63      0.54      0.58       252\n",
      "\n",
      "             micro avg       0.58      0.58      0.58      1688\n",
      "             macro avg       0.68      0.48      0.49      1688\n",
      "          weighted avg       0.61      0.58      0.54      1688\n",
      "\n"
     ]
    }
   ],
   "source": [
    "RFC = RandomForestClassifier(n_estimators=1000, random_state = 42, n_jobs=-1)\n",
    "RFC.fit(X_train_scaled, y_train)\n",
    "#print(\"Accuracy on training set is : {}\".format(clf.score(X_train, y_train)))\n",
    "#print(\"Accuracy on test set is : {}\".format(clf.score(X_test, y_test)))\n",
    "y_test_RFC = RFC.predict(X_test_scaled)\n",
    "print(classification_report(y_test, y_test_RFC))"
   ]
  },
  {
   "cell_type": "markdown",
   "metadata": {},
   "source": [
    "Now perform Naive Bayes "
   ]
  },
  {
   "cell_type": "code",
   "execution_count": 95,
   "metadata": {},
   "outputs": [
    {
     "name": "stdout",
     "output_type": "stream",
     "text": [
      "                        precision    recall  f1-score   support\n",
      "\n",
      "                carpet       0.14      0.01      0.02        86\n",
      "              concrete       0.44      0.06      0.10       305\n",
      "         fine_concrete       0.25      0.30      0.28       203\n",
      "            hard_tiles       0.12      0.87      0.21        38\n",
      "hard_tiles_large_space       0.45      0.42      0.43       169\n",
      "              soft_pvc       0.47      0.51      0.49       326\n",
      "            soft_tiles       0.51      0.93      0.66       136\n",
      "                 tiled       0.29      0.55      0.38       173\n",
      "                  wood       0.07      0.01      0.01       252\n",
      "\n",
      "             micro avg       0.34      0.34      0.34      1688\n",
      "             macro avg       0.30      0.41      0.29      1688\n",
      "          weighted avg       0.34      0.34      0.29      1688\n",
      "\n"
     ]
    }
   ],
   "source": [
    "NB = GaussianNB()\n",
    "NB.fit(X_train_scaled, y_train)\n",
    "y_test_NB = NB.predict(X_test_scaled)\n",
    "print(classification_report(y_test, y_test_NB))"
   ]
  },
  {
   "cell_type": "markdown",
   "metadata": {},
   "source": [
    "Now perform RBF SVM"
   ]
  },
  {
   "cell_type": "code",
   "execution_count": 103,
   "metadata": {},
   "outputs": [
    {
     "name": "stderr",
     "output_type": "stream",
     "text": [
      "/anaconda3/envs/learn-env/lib/python3.6/site-packages/sklearn/model_selection/_split.py:2053: FutureWarning: You should specify a value for 'cv' instead of relying on the default value. The default value will change from 3 to 5 in version 0.22.\n",
      "  warnings.warn(CV_WARNING, FutureWarning)\n"
     ]
    },
    {
     "name": "stdout",
     "output_type": "stream",
     "text": [
      "The best parameters are {'C': 0.005179474679231213} with a score of 0.45\n"
     ]
    }
   ],
   "source": [
    "C_range = np.logspace(-4, 0, 8)\n",
    "param_grid = dict(C=C_range)\n",
    "grid = GridSearchCV(SVC(kernel = 'linear'), param_grid=param_grid, n_jobs=-1, pre_dispatch=8 )\n",
    "grid.fit(X_train_scaled, y_train)\n",
    "\n",
    "print(\"The best parameters are %s with a score of %0.2f\"\n",
    "      % (grid.best_params_, grid.best_score_))"
   ]
  },
  {
   "cell_type": "code",
   "execution_count": 104,
   "metadata": {},
   "outputs": [
    {
     "name": "stdout",
     "output_type": "stream",
     "text": [
      "                        precision    recall  f1-score   support\n",
      "\n",
      "                carpet       0.15      0.06      0.08        86\n",
      "              concrete       0.48      0.63      0.54       305\n",
      "         fine_concrete       0.28      0.17      0.21       203\n",
      "            hard_tiles       0.00      0.00      0.00        38\n",
      "hard_tiles_large_space       0.46      0.22      0.30       169\n",
      "              soft_pvc       0.43      0.72      0.54       326\n",
      "            soft_tiles       0.58      0.82      0.68       136\n",
      "                 tiled       0.42      0.33      0.37       173\n",
      "                  wood       0.45      0.32      0.37       252\n",
      "\n",
      "             micro avg       0.45      0.45      0.45      1688\n",
      "             macro avg       0.36      0.36      0.34      1688\n",
      "          weighted avg       0.41      0.45      0.41      1688\n",
      "\n"
     ]
    },
    {
     "name": "stderr",
     "output_type": "stream",
     "text": [
      "/anaconda3/envs/learn-env/lib/python3.6/site-packages/sklearn/metrics/classification.py:1143: UndefinedMetricWarning: Precision and F-score are ill-defined and being set to 0.0 in labels with no predicted samples.\n",
      "  'precision', 'predicted', average, warn_for)\n",
      "/anaconda3/envs/learn-env/lib/python3.6/site-packages/sklearn/metrics/classification.py:1143: UndefinedMetricWarning: Precision and F-score are ill-defined and being set to 0.0 in labels with no predicted samples.\n",
      "  'precision', 'predicted', average, warn_for)\n",
      "/anaconda3/envs/learn-env/lib/python3.6/site-packages/sklearn/metrics/classification.py:1143: UndefinedMetricWarning: Precision and F-score are ill-defined and being set to 0.0 in labels with no predicted samples.\n",
      "  'precision', 'predicted', average, warn_for)\n"
     ]
    }
   ],
   "source": [
    "y_test_SVC = grid.predict(X_test_scaled)\n",
    "print(classification_report(y_test, y_test_SVC))"
   ]
  },
  {
   "cell_type": "markdown",
   "metadata": {},
   "source": [
    "Now perform KNN"
   ]
  },
  {
   "cell_type": "code",
   "execution_count": 101,
   "metadata": {},
   "outputs": [
    {
     "name": "stdout",
     "output_type": "stream",
     "text": [
      "                        precision    recall  f1-score   support\n",
      "\n",
      "                carpet       0.09      0.20      0.13        86\n",
      "              concrete       0.27      0.11      0.15       305\n",
      "         fine_concrete       0.12      0.11      0.12       203\n",
      "            hard_tiles       0.05      0.08      0.06        38\n",
      "hard_tiles_large_space       0.24      0.05      0.08       169\n",
      "              soft_pvc       0.20      0.26      0.23       326\n",
      "            soft_tiles       0.28      0.93      0.43       136\n",
      "                 tiled       0.14      0.02      0.03       173\n",
      "                  wood       0.34      0.27      0.30       252\n",
      "\n",
      "             micro avg       0.22      0.22      0.22      1688\n",
      "             macro avg       0.19      0.22      0.17      1688\n",
      "          weighted avg       0.22      0.22      0.18      1688\n",
      "\n"
     ]
    }
   ],
   "source": [
    "knn = KNeighborsClassifier(3)\n",
    "knn.fit(X_train_scaled,y_train)\n",
    "y_test_knn = knn.predict(X_test_scaled)\n",
    "print(classification_report(y_test, y_test_knn))"
   ]
  },
  {
   "cell_type": "code",
   "execution_count": 102,
   "metadata": {},
   "outputs": [
    {
     "name": "stdout",
     "output_type": "stream",
     "text": [
      "                        precision    recall  f1-score   support\n",
      "\n",
      "                carpet       0.20      0.26      0.22        86\n",
      "              concrete       0.49      0.48      0.48       305\n",
      "         fine_concrete       0.34      0.31      0.32       203\n",
      "            hard_tiles       0.16      0.16      0.16        38\n",
      "hard_tiles_large_space       0.48      0.40      0.44       169\n",
      "              soft_pvc       0.54      0.58      0.56       326\n",
      "            soft_tiles       0.78      0.75      0.77       136\n",
      "                 tiled       0.31      0.35      0.33       173\n",
      "                  wood       0.51      0.48      0.49       252\n",
      "\n",
      "             micro avg       0.46      0.46      0.46      1688\n",
      "             macro avg       0.42      0.42      0.42      1688\n",
      "          weighted avg       0.47      0.46      0.46      1688\n",
      "\n"
     ]
    }
   ],
   "source": [
    "dt = DecisionTreeClassifier()\n",
    "dt.fit(X_train_scaled,y_train)\n",
    "y_test_dt = dt.predict(X_test_scaled)\n",
    "print(classification_report(y_test, y_test_dt))"
   ]
  },
  {
   "cell_type": "code",
   "execution_count": 128,
   "metadata": {},
   "outputs": [
    {
     "data": {
      "text/html": [
       "<div>\n",
       "<style scoped>\n",
       "    .dataframe tbody tr th:only-of-type {\n",
       "        vertical-align: middle;\n",
       "    }\n",
       "\n",
       "    .dataframe tbody tr th {\n",
       "        vertical-align: top;\n",
       "    }\n",
       "\n",
       "    .dataframe thead th {\n",
       "        text-align: right;\n",
       "    }\n",
       "</style>\n",
       "<table border=\"1\" class=\"dataframe\">\n",
       "  <thead>\n",
       "    <tr style=\"text-align: right;\">\n",
       "      <th></th>\n",
       "      <th>new_group_id</th>\n",
       "      <th>angular_velocity_X_range</th>\n",
       "      <th>angular_velocity_X_RMS</th>\n",
       "      <th>angular_velocity_X_std</th>\n",
       "      <th>angular_velocity_X_entropy</th>\n",
       "      <th>angular_velocity_X_zc</th>\n",
       "      <th>angular_velocity_X_wt_0</th>\n",
       "      <th>angular_velocity_X_wt_1</th>\n",
       "      <th>angular_velocity_X_wt_2</th>\n",
       "      <th>angular_velocity_X_wt_3</th>\n",
       "      <th>...</th>\n",
       "      <th>linear_acceleration_Z_psd_27</th>\n",
       "      <th>linear_acceleration_Z_psd_28</th>\n",
       "      <th>linear_acceleration_Z_psd_29</th>\n",
       "      <th>linear_acceleration_Z_psd_30</th>\n",
       "      <th>linear_acceleration_Z_psd_31</th>\n",
       "      <th>linear_acceleration_Z_psd_32</th>\n",
       "      <th>surface_RFC</th>\n",
       "      <th>surface_dt</th>\n",
       "      <th>surface_SVC</th>\n",
       "      <th>new_surface</th>\n",
       "    </tr>\n",
       "    <tr>\n",
       "      <th>series_id</th>\n",
       "      <th></th>\n",
       "      <th></th>\n",
       "      <th></th>\n",
       "      <th></th>\n",
       "      <th></th>\n",
       "      <th></th>\n",
       "      <th></th>\n",
       "      <th></th>\n",
       "      <th></th>\n",
       "      <th></th>\n",
       "      <th></th>\n",
       "      <th></th>\n",
       "      <th></th>\n",
       "      <th></th>\n",
       "      <th></th>\n",
       "      <th></th>\n",
       "      <th></th>\n",
       "      <th></th>\n",
       "      <th></th>\n",
       "      <th></th>\n",
       "      <th></th>\n",
       "    </tr>\n",
       "  </thead>\n",
       "  <tbody>\n",
       "    <tr>\n",
       "      <th>7001</th>\n",
       "      <td>52</td>\n",
       "      <td>0.298564</td>\n",
       "      <td>0.066695</td>\n",
       "      <td>0.066958</td>\n",
       "      <td>2.020823</td>\n",
       "      <td>[[0.0224609375]]</td>\n",
       "      <td>-0.270240</td>\n",
       "      <td>-0.270240</td>\n",
       "      <td>-0.159282</td>\n",
       "      <td>-0.018233</td>\n",
       "      <td>...</td>\n",
       "      <td>0.703798</td>\n",
       "      <td>0.586422</td>\n",
       "      <td>0.469260</td>\n",
       "      <td>0.798356</td>\n",
       "      <td>1.909104</td>\n",
       "      <td>1.029526</td>\n",
       "      <td>concrete</td>\n",
       "      <td>concrete</td>\n",
       "      <td>concrete</td>\n",
       "      <td>soft_pvc</td>\n",
       "    </tr>\n",
       "    <tr>\n",
       "      <th>5872</th>\n",
       "      <td>55</td>\n",
       "      <td>0.556702</td>\n",
       "      <td>0.118909</td>\n",
       "      <td>0.119372</td>\n",
       "      <td>1.831078</td>\n",
       "      <td>[[0.02197265625]]</td>\n",
       "      <td>-0.384306</td>\n",
       "      <td>-0.384306</td>\n",
       "      <td>-0.148238</td>\n",
       "      <td>-0.098614</td>\n",
       "      <td>...</td>\n",
       "      <td>1.808227</td>\n",
       "      <td>0.905517</td>\n",
       "      <td>0.614614</td>\n",
       "      <td>0.782162</td>\n",
       "      <td>0.460367</td>\n",
       "      <td>0.237662</td>\n",
       "      <td>tiled</td>\n",
       "      <td>fine_concrete</td>\n",
       "      <td>concrete</td>\n",
       "      <td>soft_pvc</td>\n",
       "    </tr>\n",
       "    <tr>\n",
       "      <th>5340</th>\n",
       "      <td>43</td>\n",
       "      <td>0.076305</td>\n",
       "      <td>0.015312</td>\n",
       "      <td>0.015370</td>\n",
       "      <td>1.910724</td>\n",
       "      <td>[[0.0244140625]]</td>\n",
       "      <td>-0.136348</td>\n",
       "      <td>-0.136348</td>\n",
       "      <td>-0.068584</td>\n",
       "      <td>0.153171</td>\n",
       "      <td>...</td>\n",
       "      <td>0.025949</td>\n",
       "      <td>0.015395</td>\n",
       "      <td>0.018110</td>\n",
       "      <td>0.026306</td>\n",
       "      <td>0.029809</td>\n",
       "      <td>0.014406</td>\n",
       "      <td>carpet</td>\n",
       "      <td>carpet</td>\n",
       "      <td>soft_pvc</td>\n",
       "      <td>soft_pvc</td>\n",
       "    </tr>\n",
       "    <tr>\n",
       "      <th>2465</th>\n",
       "      <td>52</td>\n",
       "      <td>0.125535</td>\n",
       "      <td>0.022293</td>\n",
       "      <td>0.022381</td>\n",
       "      <td>2.384093</td>\n",
       "      <td>[[0.0205078125]]</td>\n",
       "      <td>-0.064767</td>\n",
       "      <td>-0.064767</td>\n",
       "      <td>-0.001094</td>\n",
       "      <td>0.111885</td>\n",
       "      <td>...</td>\n",
       "      <td>0.013257</td>\n",
       "      <td>0.126000</td>\n",
       "      <td>0.186108</td>\n",
       "      <td>0.181294</td>\n",
       "      <td>0.127508</td>\n",
       "      <td>0.014898</td>\n",
       "      <td>wood</td>\n",
       "      <td>carpet</td>\n",
       "      <td>soft_pvc</td>\n",
       "      <td>soft_pvc</td>\n",
       "    </tr>\n",
       "    <tr>\n",
       "      <th>2348</th>\n",
       "      <td>48</td>\n",
       "      <td>0.244297</td>\n",
       "      <td>0.052295</td>\n",
       "      <td>0.052495</td>\n",
       "      <td>1.982108</td>\n",
       "      <td>[[0.02294921875]]</td>\n",
       "      <td>-0.401550</td>\n",
       "      <td>-0.401550</td>\n",
       "      <td>-0.200207</td>\n",
       "      <td>0.279164</td>\n",
       "      <td>...</td>\n",
       "      <td>0.247497</td>\n",
       "      <td>0.194647</td>\n",
       "      <td>0.193837</td>\n",
       "      <td>0.339354</td>\n",
       "      <td>0.303204</td>\n",
       "      <td>0.011178</td>\n",
       "      <td>soft_pvc</td>\n",
       "      <td>fine_concrete</td>\n",
       "      <td>soft_pvc</td>\n",
       "      <td>soft_pvc</td>\n",
       "    </tr>\n",
       "  </tbody>\n",
       "</table>\n",
       "<p>5 rows × 1103 columns</p>\n",
       "</div>"
      ],
      "text/plain": [
       "           new_group_id  angular_velocity_X_range  angular_velocity_X_RMS  \\\n",
       "series_id                                                                   \n",
       "7001                 52                  0.298564                0.066695   \n",
       "5872                 55                  0.556702                0.118909   \n",
       "5340                 43                  0.076305                0.015312   \n",
       "2465                 52                  0.125535                0.022293   \n",
       "2348                 48                  0.244297                0.052295   \n",
       "\n",
       "           angular_velocity_X_std  angular_velocity_X_entropy  \\\n",
       "series_id                                                       \n",
       "7001                     0.066958                    2.020823   \n",
       "5872                     0.119372                    1.831078   \n",
       "5340                     0.015370                    1.910724   \n",
       "2465                     0.022381                    2.384093   \n",
       "2348                     0.052495                    1.982108   \n",
       "\n",
       "          angular_velocity_X_zc  angular_velocity_X_wt_0  \\\n",
       "series_id                                                  \n",
       "7001           [[0.0224609375]]                -0.270240   \n",
       "5872          [[0.02197265625]]                -0.384306   \n",
       "5340           [[0.0244140625]]                -0.136348   \n",
       "2465           [[0.0205078125]]                -0.064767   \n",
       "2348          [[0.02294921875]]                -0.401550   \n",
       "\n",
       "           angular_velocity_X_wt_1  angular_velocity_X_wt_2  \\\n",
       "series_id                                                     \n",
       "7001                     -0.270240                -0.159282   \n",
       "5872                     -0.384306                -0.148238   \n",
       "5340                     -0.136348                -0.068584   \n",
       "2465                     -0.064767                -0.001094   \n",
       "2348                     -0.401550                -0.200207   \n",
       "\n",
       "           angular_velocity_X_wt_3     ...       linear_acceleration_Z_psd_27  \\\n",
       "series_id                              ...                                      \n",
       "7001                     -0.018233     ...                           0.703798   \n",
       "5872                     -0.098614     ...                           1.808227   \n",
       "5340                      0.153171     ...                           0.025949   \n",
       "2465                      0.111885     ...                           0.013257   \n",
       "2348                      0.279164     ...                           0.247497   \n",
       "\n",
       "           linear_acceleration_Z_psd_28  linear_acceleration_Z_psd_29  \\\n",
       "series_id                                                               \n",
       "7001                           0.586422                      0.469260   \n",
       "5872                           0.905517                      0.614614   \n",
       "5340                           0.015395                      0.018110   \n",
       "2465                           0.126000                      0.186108   \n",
       "2348                           0.194647                      0.193837   \n",
       "\n",
       "           linear_acceleration_Z_psd_30  linear_acceleration_Z_psd_31  \\\n",
       "series_id                                                               \n",
       "7001                           0.798356                      1.909104   \n",
       "5872                           0.782162                      0.460367   \n",
       "5340                           0.026306                      0.029809   \n",
       "2465                           0.181294                      0.127508   \n",
       "2348                           0.339354                      0.303204   \n",
       "\n",
       "           linear_acceleration_Z_psd_32  surface_RFC     surface_dt  \\\n",
       "series_id                                                             \n",
       "7001                           1.029526     concrete       concrete   \n",
       "5872                           0.237662        tiled  fine_concrete   \n",
       "5340                           0.014406       carpet         carpet   \n",
       "2465                           0.014898         wood         carpet   \n",
       "2348                           0.011178     soft_pvc  fine_concrete   \n",
       "\n",
       "           surface_SVC  new_surface  \n",
       "series_id                            \n",
       "7001          concrete     soft_pvc  \n",
       "5872          concrete     soft_pvc  \n",
       "5340          soft_pvc     soft_pvc  \n",
       "2465          soft_pvc     soft_pvc  \n",
       "2348          soft_pvc     soft_pvc  \n",
       "\n",
       "[5 rows x 1103 columns]"
      ]
     },
     "execution_count": 128,
     "metadata": {},
     "output_type": "execute_result"
    }
   ],
   "source": [
    "X_classified.head()"
   ]
  },
  {
   "cell_type": "code",
   "execution_count": null,
   "metadata": {
    "scrolled": false
   },
   "outputs": [],
   "source": [
    "X_classified = X_test.copy()\n",
    "X_classified['surface']  = y_test_RFC\n",
    "groups = X_classified.groupby('new_group_id')\n",
    "reclassified_dfs = []\n",
    "for name,group in groups:\n",
    "    surface = group.surface.value_counts().index[0]\n",
    "    group.surface = surface\n",
    "    reclassified_dfs.append(group)\n",
    "reclassified = pd.concat(reclassified_dfs)\n",
    "X_classified.set_index('series_id',inplace = True)\n",
    "reclassified.set_index('series_id',inplace=True)\n",
    "X_classified['new_surface'] = reclassified.surface\n",
    "print(classification_report(y_test, X_classified.new_surface))"
   ]
  },
  {
   "cell_type": "code",
   "execution_count": 179,
   "metadata": {},
   "outputs": [
    {
     "name": "stderr",
     "output_type": "stream",
     "text": [
      "/anaconda3/envs/learn-env/lib/python3.6/site-packages/pandas/core/generic.py:4405: SettingWithCopyWarning: \n",
      "A value is trying to be set on a copy of a slice from a DataFrame.\n",
      "Try using .loc[row_indexer,col_indexer] = value instead\n",
      "\n",
      "See the caveats in the documentation: http://pandas.pydata.org/pandas-docs/stable/indexing.html#indexing-view-versus-copy\n",
      "  self[name] = value\n"
     ]
    },
    {
     "name": "stdout",
     "output_type": "stream",
     "text": [
      "                        precision    recall  f1-score   support\n",
      "\n",
      "                carpet       0.57      0.27      0.37        86\n",
      "              concrete       0.62      0.69      0.65       305\n",
      "         fine_concrete       1.00      0.33      0.50       203\n",
      "            hard_tiles       0.00      0.00      0.00        38\n",
      "hard_tiles_large_space       0.93      0.94      0.94       169\n",
      "              soft_pvc       0.64      1.00      0.78       326\n",
      "            soft_tiles       0.90      0.97      0.93       136\n",
      "                 tiled       1.00      0.89      0.94       173\n",
      "                  wood       0.76      0.79      0.77       252\n",
      "\n",
      "             micro avg       0.75      0.75      0.75      1688\n",
      "             macro avg       0.71      0.65      0.65      1688\n",
      "          weighted avg       0.77      0.75      0.73      1688\n",
      "\n"
     ]
    },
    {
     "name": "stderr",
     "output_type": "stream",
     "text": [
      "/anaconda3/envs/learn-env/lib/python3.6/site-packages/sklearn/metrics/classification.py:1143: UndefinedMetricWarning: Precision and F-score are ill-defined and being set to 0.0 in labels with no predicted samples.\n",
      "  'precision', 'predicted', average, warn_for)\n",
      "/anaconda3/envs/learn-env/lib/python3.6/site-packages/sklearn/metrics/classification.py:1143: UndefinedMetricWarning: Precision and F-score are ill-defined and being set to 0.0 in labels with no predicted samples.\n",
      "  'precision', 'predicted', average, warn_for)\n",
      "/anaconda3/envs/learn-env/lib/python3.6/site-packages/sklearn/metrics/classification.py:1143: UndefinedMetricWarning: Precision and F-score are ill-defined and being set to 0.0 in labels with no predicted samples.\n",
      "  'precision', 'predicted', average, warn_for)\n"
     ]
    }
   ],
   "source": [
    "X_classified = X_test.copy()\n",
    "X_classified['surface'] = y_test_RFC\n",
    "X_classified['surface_RFC']  = y_test_RFC\n",
    "X_classified['surface_dt'] = y_test_dt\n",
    "X_classified['surface_SVC'] = y_test_SVC\n",
    "X_classified['surface_knn'] = y_test_knn\n",
    "groups = X_classified.groupby('new_group_id')\n",
    "reclassified_dfs = []\n",
    "sanity_check = 0\n",
    "for name,group in groups:\n",
    "    a=group.surface_RFC.value_counts()\n",
    "    b=group.surface_dt.value_counts()\n",
    "    c=group.surface_SVC.value_counts()\n",
    "    d=group.surface_knn.value_counts()\n",
    "    all_predictors = pd.DataFrame([a*1.,b*8,c*0.8]).fillna(value=0)\n",
    "    surface1 = all_predictors.sum().sort_values(ascending=False).index[0]\n",
    "    #surface = group.surface_RFC.value_counts().index[0]\n",
    "    group.surface = surface1\n",
    "    reclassified_dfs.append(group)\n",
    "reclassified = pd.concat(reclassified_dfs)\n",
    "X_classified.set_index('series_id',inplace = True)\n",
    "reclassified.set_index('series_id',inplace=True)\n",
    "X_classified['new_surface'] = reclassified.surface\n",
    "print(classification_report(y_test, X_classified.new_surface))"
   ]
  },
  {
   "cell_type": "code",
   "execution_count": 180,
   "metadata": {},
   "outputs": [],
   "source": [
    "unclassified_data = sorted_data[sorted_data.surface == 'no_surface']\n",
    "g = unclassified_data.groupby('series_id')\n",
    "series = list(g.groups.keys())\n",
    "data = {}\n",
    "data['series_id'] = []\n",
    "data['new_group_id'] = []\n",
    "data['surface'] = []\n",
    "for s_key in series:\n",
    "    data['series_id'].append(s_key)\n",
    "    data['new_group_id'].append(g.get_group(s_key)['new_group_id'].iloc[0])\n",
    "    data['surface'].append(g.get_group(s_key)['surface'].iloc[0])\n",
    "    for feature in features:\n",
    "        # Get signal\n",
    "        signal = g.get_group(s_key)[feature]\n",
    "        signald = signal.diff(1).dropna()\n",
    "        # Set dictionary keys for time-based features\n",
    "        range_key = '{0}_range'.format(feature)\n",
    "        RMS_key = '{0}_RMS'.format(feature)\n",
    "        std_key = '{0}_std'.format(feature)\n",
    "        entropy_key = '{0}_entropy'.format(feature)\n",
    "        zc_key = '{0}_zc'.format(feature)\n",
    "        if range_key not in data.keys():\n",
    "            data[range_key] = []\n",
    "            data[RMS_key] = []\n",
    "            data[std_key] = []\n",
    "            data[entropy_key] = []\n",
    "            data[zc_key] = []\n",
    "        # Write time-based features\n",
    "        data[range_key].append(signald.max()-signald.min())\n",
    "        data[RMS_key].append(rms(signald))\n",
    "        data[std_key].append(signald.std())\n",
    "        data[zc_key].append(zero_crossing_rate(np.array(signald)))\n",
    "        # Calculate entropy (PSD is needed for entropy)\n",
    "        _,psd_values = welch(signal, nperseg = 64)\n",
    "        psd_values_normalized = psd_values/psd_values.sum()\n",
    "        entropy = -np.sum([i*np.log(i) for i in psd_values_normalized])\n",
    "        data[entropy_key].append(entropy)\n",
    "        coeffs = pywt.wavedec(signal,'bior1.3',1)\n",
    "        coeffs_ravel = pywt.ravel_coeffs(coeffs)\n",
    "        # Store coeff values\n",
    "        for i,value in enumerate(coeffs_ravel[0]):\n",
    "            # Store datum\n",
    "            y_key = '{0}_wt_{1}'.format(feature,i)\n",
    "            if y_key not in data.keys():\n",
    "                data[y_key] = []\n",
    "            data[y_key].append(value)\n",
    "        # Store psd values\n",
    "        for i,value in enumerate(psd_values):\n",
    "            # Store datum\n",
    "            y_key = '{0}_psd_{1}'.format(feature,i)\n",
    "            if y_key not in data.keys():\n",
    "                data[y_key] = []\n",
    "            data[y_key].append(value)"
   ]
  },
  {
   "cell_type": "code",
   "execution_count": 181,
   "metadata": {
    "scrolled": true
   },
   "outputs": [],
   "source": [
    "df2 = pd.DataFrame(data)"
   ]
  },
  {
   "cell_type": "code",
   "execution_count": 191,
   "metadata": {},
   "outputs": [
    {
     "data": {
      "text/html": [
       "<div>\n",
       "<style scoped>\n",
       "    .dataframe tbody tr th:only-of-type {\n",
       "        vertical-align: middle;\n",
       "    }\n",
       "\n",
       "    .dataframe tbody tr th {\n",
       "        vertical-align: top;\n",
       "    }\n",
       "\n",
       "    .dataframe thead th {\n",
       "        text-align: right;\n",
       "    }\n",
       "</style>\n",
       "<table border=\"1\" class=\"dataframe\">\n",
       "  <thead>\n",
       "    <tr style=\"text-align: right;\">\n",
       "      <th></th>\n",
       "      <th>series_id</th>\n",
       "      <th>new_group_id</th>\n",
       "      <th>surface</th>\n",
       "      <th>angular_velocity_X_range</th>\n",
       "      <th>angular_velocity_X_RMS</th>\n",
       "      <th>angular_velocity_X_std</th>\n",
       "      <th>angular_velocity_X_entropy</th>\n",
       "      <th>angular_velocity_X_zc</th>\n",
       "      <th>angular_velocity_X_wt_0</th>\n",
       "      <th>angular_velocity_X_wt_1</th>\n",
       "      <th>...</th>\n",
       "      <th>linear_acceleration_Z_psd_23</th>\n",
       "      <th>linear_acceleration_Z_psd_24</th>\n",
       "      <th>linear_acceleration_Z_psd_25</th>\n",
       "      <th>linear_acceleration_Z_psd_26</th>\n",
       "      <th>linear_acceleration_Z_psd_27</th>\n",
       "      <th>linear_acceleration_Z_psd_28</th>\n",
       "      <th>linear_acceleration_Z_psd_29</th>\n",
       "      <th>linear_acceleration_Z_psd_30</th>\n",
       "      <th>linear_acceleration_Z_psd_31</th>\n",
       "      <th>linear_acceleration_Z_psd_32</th>\n",
       "    </tr>\n",
       "  </thead>\n",
       "  <tbody>\n",
       "    <tr>\n",
       "      <th>0</th>\n",
       "      <td>3819</td>\n",
       "      <td>68</td>\n",
       "      <td>no_surface</td>\n",
       "      <td>0.121048</td>\n",
       "      <td>0.020779</td>\n",
       "      <td>0.020861</td>\n",
       "      <td>2.170300</td>\n",
       "      <td>[[0.0224609375]]</td>\n",
       "      <td>0.037937</td>\n",
       "      <td>0.037937</td>\n",
       "      <td>...</td>\n",
       "      <td>0.047384</td>\n",
       "      <td>0.035123</td>\n",
       "      <td>0.123213</td>\n",
       "      <td>0.121220</td>\n",
       "      <td>0.043762</td>\n",
       "      <td>0.003189</td>\n",
       "      <td>0.013132</td>\n",
       "      <td>0.026850</td>\n",
       "      <td>0.030976</td>\n",
       "      <td>0.022641</td>\n",
       "    </tr>\n",
       "    <tr>\n",
       "      <th>1</th>\n",
       "      <td>3824</td>\n",
       "      <td>69</td>\n",
       "      <td>no_surface</td>\n",
       "      <td>0.533420</td>\n",
       "      <td>0.123769</td>\n",
       "      <td>0.124251</td>\n",
       "      <td>1.983230</td>\n",
       "      <td>[[0.02099609375]]</td>\n",
       "      <td>-0.365575</td>\n",
       "      <td>-0.365575</td>\n",
       "      <td>...</td>\n",
       "      <td>0.130021</td>\n",
       "      <td>0.471948</td>\n",
       "      <td>1.128349</td>\n",
       "      <td>0.577118</td>\n",
       "      <td>0.850059</td>\n",
       "      <td>0.460736</td>\n",
       "      <td>0.641222</td>\n",
       "      <td>0.611456</td>\n",
       "      <td>0.653173</td>\n",
       "      <td>0.550795</td>\n",
       "    </tr>\n",
       "    <tr>\n",
       "      <th>2</th>\n",
       "      <td>3827</td>\n",
       "      <td>70</td>\n",
       "      <td>no_surface</td>\n",
       "      <td>0.063668</td>\n",
       "      <td>0.012373</td>\n",
       "      <td>0.012419</td>\n",
       "      <td>1.156204</td>\n",
       "      <td>[[0.02099609375]]</td>\n",
       "      <td>-0.087619</td>\n",
       "      <td>-0.087619</td>\n",
       "      <td>...</td>\n",
       "      <td>0.004533</td>\n",
       "      <td>0.004884</td>\n",
       "      <td>0.001117</td>\n",
       "      <td>0.003082</td>\n",
       "      <td>0.007722</td>\n",
       "      <td>0.004456</td>\n",
       "      <td>0.004640</td>\n",
       "      <td>0.003559</td>\n",
       "      <td>0.003519</td>\n",
       "      <td>0.000407</td>\n",
       "    </tr>\n",
       "    <tr>\n",
       "      <th>3</th>\n",
       "      <td>3839</td>\n",
       "      <td>71</td>\n",
       "      <td>no_surface</td>\n",
       "      <td>0.830419</td>\n",
       "      <td>0.158192</td>\n",
       "      <td>0.158727</td>\n",
       "      <td>1.473526</td>\n",
       "      <td>[[0.0205078125]]</td>\n",
       "      <td>-0.130816</td>\n",
       "      <td>-0.130816</td>\n",
       "      <td>...</td>\n",
       "      <td>0.161411</td>\n",
       "      <td>0.310410</td>\n",
       "      <td>0.614138</td>\n",
       "      <td>0.917174</td>\n",
       "      <td>0.654474</td>\n",
       "      <td>0.650984</td>\n",
       "      <td>0.606910</td>\n",
       "      <td>0.508776</td>\n",
       "      <td>0.605943</td>\n",
       "      <td>0.026696</td>\n",
       "    </tr>\n",
       "    <tr>\n",
       "      <th>4</th>\n",
       "      <td>3841</td>\n",
       "      <td>72</td>\n",
       "      <td>no_surface</td>\n",
       "      <td>0.059549</td>\n",
       "      <td>0.014304</td>\n",
       "      <td>0.014360</td>\n",
       "      <td>1.844316</td>\n",
       "      <td>[[0.02392578125]]</td>\n",
       "      <td>0.000546</td>\n",
       "      <td>0.000546</td>\n",
       "      <td>...</td>\n",
       "      <td>0.050571</td>\n",
       "      <td>0.068961</td>\n",
       "      <td>0.054637</td>\n",
       "      <td>0.028042</td>\n",
       "      <td>0.017628</td>\n",
       "      <td>0.014009</td>\n",
       "      <td>0.010959</td>\n",
       "      <td>0.022413</td>\n",
       "      <td>0.015784</td>\n",
       "      <td>0.005963</td>\n",
       "    </tr>\n",
       "  </tbody>\n",
       "</table>\n",
       "<p>5 rows × 1101 columns</p>\n",
       "</div>"
      ],
      "text/plain": [
       "   series_id  new_group_id     surface  angular_velocity_X_range  \\\n",
       "0       3819            68  no_surface                  0.121048   \n",
       "1       3824            69  no_surface                  0.533420   \n",
       "2       3827            70  no_surface                  0.063668   \n",
       "3       3839            71  no_surface                  0.830419   \n",
       "4       3841            72  no_surface                  0.059549   \n",
       "\n",
       "   angular_velocity_X_RMS  angular_velocity_X_std  angular_velocity_X_entropy  \\\n",
       "0                0.020779                0.020861                    2.170300   \n",
       "1                0.123769                0.124251                    1.983230   \n",
       "2                0.012373                0.012419                    1.156204   \n",
       "3                0.158192                0.158727                    1.473526   \n",
       "4                0.014304                0.014360                    1.844316   \n",
       "\n",
       "  angular_velocity_X_zc  angular_velocity_X_wt_0  angular_velocity_X_wt_1  \\\n",
       "0      [[0.0224609375]]                 0.037937                 0.037937   \n",
       "1     [[0.02099609375]]                -0.365575                -0.365575   \n",
       "2     [[0.02099609375]]                -0.087619                -0.087619   \n",
       "3      [[0.0205078125]]                -0.130816                -0.130816   \n",
       "4     [[0.02392578125]]                 0.000546                 0.000546   \n",
       "\n",
       "               ...               linear_acceleration_Z_psd_23  \\\n",
       "0              ...                                   0.047384   \n",
       "1              ...                                   0.130021   \n",
       "2              ...                                   0.004533   \n",
       "3              ...                                   0.161411   \n",
       "4              ...                                   0.050571   \n",
       "\n",
       "   linear_acceleration_Z_psd_24  linear_acceleration_Z_psd_25  \\\n",
       "0                      0.035123                      0.123213   \n",
       "1                      0.471948                      1.128349   \n",
       "2                      0.004884                      0.001117   \n",
       "3                      0.310410                      0.614138   \n",
       "4                      0.068961                      0.054637   \n",
       "\n",
       "   linear_acceleration_Z_psd_26  linear_acceleration_Z_psd_27  \\\n",
       "0                      0.121220                      0.043762   \n",
       "1                      0.577118                      0.850059   \n",
       "2                      0.003082                      0.007722   \n",
       "3                      0.917174                      0.654474   \n",
       "4                      0.028042                      0.017628   \n",
       "\n",
       "   linear_acceleration_Z_psd_28  linear_acceleration_Z_psd_29  \\\n",
       "0                      0.003189                      0.013132   \n",
       "1                      0.460736                      0.641222   \n",
       "2                      0.004456                      0.004640   \n",
       "3                      0.650984                      0.606910   \n",
       "4                      0.014009                      0.010959   \n",
       "\n",
       "   linear_acceleration_Z_psd_30  linear_acceleration_Z_psd_31  \\\n",
       "0                      0.026850                      0.030976   \n",
       "1                      0.611456                      0.653173   \n",
       "2                      0.003559                      0.003519   \n",
       "3                      0.508776                      0.605943   \n",
       "4                      0.022413                      0.015784   \n",
       "\n",
       "   linear_acceleration_Z_psd_32  \n",
       "0                      0.022641  \n",
       "1                      0.550795  \n",
       "2                      0.000407  \n",
       "3                      0.026696  \n",
       "4                      0.005963  \n",
       "\n",
       "[5 rows x 1101 columns]"
      ]
     },
     "execution_count": 191,
     "metadata": {},
     "output_type": "execute_result"
    }
   ],
   "source": [
    "df2.head()"
   ]
  },
  {
   "cell_type": "code",
   "execution_count": 195,
   "metadata": {},
   "outputs": [
    {
     "name": "stderr",
     "output_type": "stream",
     "text": [
      "/anaconda3/envs/learn-env/lib/python3.6/site-packages/ipykernel_launcher.py:2: DataConversionWarning: Data with input dtype float64, object were all converted to float64 by StandardScaler.\n",
      "  \n",
      "/anaconda3/envs/learn-env/lib/python3.6/site-packages/pandas/core/generic.py:4405: SettingWithCopyWarning: \n",
      "A value is trying to be set on a copy of a slice from a DataFrame.\n",
      "Try using .loc[row_indexer,col_indexer] = value instead\n",
      "\n",
      "See the caveats in the documentation: http://pandas.pydata.org/pandas-docs/stable/indexing.html#indexing-view-versus-copy\n",
      "  self[name] = value\n"
     ]
    }
   ],
   "source": [
    "X = df2.drop(labels = ['surface'], axis = 1)\n",
    "X_test_scaled = scaler.transform(X[X_train.columns])\n",
    "y_test_RFC = RFC.predict(X_test_scaled)\n",
    "y_test_dt = dt.predict(X_test_scaled)\n",
    "y_test_SVC = grid.predict(X_test_scaled)\n",
    "X_classified = X.copy()\n",
    "X_classified['surface'] = y_test_RFC\n",
    "X_classified['surface_RFC']  = y_test_RFC\n",
    "X_classified['surface_dt'] = y_test_dt\n",
    "X_classified['surface_SVC'] = y_test_SVC\n",
    "groups = X_classified.groupby('new_group_id')\n",
    "reclassified_dfs = []\n",
    "sanity_check = 0\n",
    "for name,group in groups:\n",
    "    a=group.surface_RFC.value_counts()\n",
    "    b=group.surface_dt.value_counts()\n",
    "    c=group.surface_SVC.value_counts()\n",
    "    all_predictors = pd.DataFrame([a*1.,b*8,c*0.8]).fillna(value=0)\n",
    "    surface1 = all_predictors.sum().sort_values(ascending=False).index[0]\n",
    "    #surface = group.surface_RFC.value_counts().index[0]\n",
    "    group.surface = surface1\n",
    "    reclassified_dfs.append(group)\n",
    "reclassified = pd.concat(reclassified_dfs)"
   ]
  },
  {
   "cell_type": "code",
   "execution_count": 196,
   "metadata": {},
   "outputs": [],
   "source": [
    "a = sorted_data.copy()\n",
    "for index,row in reclassified.iterrows():\n",
    "    a.loc[a.series_id==row.series_id, 'surface'] = row.surface"
   ]
  },
  {
   "cell_type": "code",
   "execution_count": 197,
   "metadata": {
    "scrolled": true
   },
   "outputs": [
    {
     "data": {
      "text/plain": [
       "soft_pvc                  195712\n",
       "concrete                  183424\n",
       "wood                      145408\n",
       "tiled                     115840\n",
       "fine_concrete             102528\n",
       "soft_tiles                 89216\n",
       "hard_tiles_large_space     77440\n",
       "carpet                     50048\n",
       "hard_tiles                 16512\n",
       "Name: surface, dtype: int64"
      ]
     },
     "execution_count": 197,
     "metadata": {},
     "output_type": "execute_result"
    }
   ],
   "source": [
    "a.surface.value_counts()"
   ]
  },
  {
   "cell_type": "code",
   "execution_count": 198,
   "metadata": {},
   "outputs": [
    {
     "data": {
      "text/html": [
       "<div>\n",
       "<style scoped>\n",
       "    .dataframe tbody tr th:only-of-type {\n",
       "        vertical-align: middle;\n",
       "    }\n",
       "\n",
       "    .dataframe tbody tr th {\n",
       "        vertical-align: top;\n",
       "    }\n",
       "\n",
       "    .dataframe thead th {\n",
       "        text-align: right;\n",
       "    }\n",
       "</style>\n",
       "<table border=\"1\" class=\"dataframe\">\n",
       "  <thead>\n",
       "    <tr style=\"text-align: right;\">\n",
       "      <th></th>\n",
       "      <th>series_id</th>\n",
       "      <th>surface</th>\n",
       "      <th>measurement_number</th>\n",
       "      <th>orientation_X</th>\n",
       "      <th>orientation_Y</th>\n",
       "      <th>orientation_Z</th>\n",
       "      <th>orientation_W</th>\n",
       "      <th>angular_velocity_X</th>\n",
       "      <th>angular_velocity_Y</th>\n",
       "      <th>angular_velocity_Z</th>\n",
       "      <th>linear_acceleration_X</th>\n",
       "      <th>linear_acceleration_Y</th>\n",
       "      <th>linear_acceleration_Z</th>\n",
       "      <th>orig_id</th>\n",
       "      <th>test</th>\n",
       "      <th>new_group_id</th>\n",
       "    </tr>\n",
       "  </thead>\n",
       "  <tbody>\n",
       "    <tr>\n",
       "      <th>0</th>\n",
       "      <td>5177</td>\n",
       "      <td>fine_concrete</td>\n",
       "      <td>0</td>\n",
       "      <td>0.97167</td>\n",
       "      <td>-0.18258</td>\n",
       "      <td>-0.019701</td>\n",
       "      <td>0.14876</td>\n",
       "      <td>0.003953</td>\n",
       "      <td>0.031351</td>\n",
       "      <td>-0.086012</td>\n",
       "      <td>0.070510</td>\n",
       "      <td>2.8750</td>\n",
       "      <td>-9.3821</td>\n",
       "      <td>1367</td>\n",
       "      <td>1</td>\n",
       "      <td>0</td>\n",
       "    </tr>\n",
       "    <tr>\n",
       "      <th>1</th>\n",
       "      <td>5177</td>\n",
       "      <td>fine_concrete</td>\n",
       "      <td>1</td>\n",
       "      <td>0.97169</td>\n",
       "      <td>-0.18247</td>\n",
       "      <td>-0.019699</td>\n",
       "      <td>0.14874</td>\n",
       "      <td>0.003299</td>\n",
       "      <td>0.028777</td>\n",
       "      <td>-0.090271</td>\n",
       "      <td>0.091805</td>\n",
       "      <td>2.8709</td>\n",
       "      <td>-9.3610</td>\n",
       "      <td>1367</td>\n",
       "      <td>1</td>\n",
       "      <td>0</td>\n",
       "    </tr>\n",
       "    <tr>\n",
       "      <th>2</th>\n",
       "      <td>5177</td>\n",
       "      <td>fine_concrete</td>\n",
       "      <td>2</td>\n",
       "      <td>0.97172</td>\n",
       "      <td>-0.18236</td>\n",
       "      <td>-0.019674</td>\n",
       "      <td>0.14874</td>\n",
       "      <td>0.010289</td>\n",
       "      <td>0.032158</td>\n",
       "      <td>-0.086130</td>\n",
       "      <td>0.115780</td>\n",
       "      <td>2.8979</td>\n",
       "      <td>-9.3569</td>\n",
       "      <td>1367</td>\n",
       "      <td>1</td>\n",
       "      <td>0</td>\n",
       "    </tr>\n",
       "    <tr>\n",
       "      <th>3</th>\n",
       "      <td>5177</td>\n",
       "      <td>fine_concrete</td>\n",
       "      <td>3</td>\n",
       "      <td>0.97174</td>\n",
       "      <td>-0.18225</td>\n",
       "      <td>-0.019646</td>\n",
       "      <td>0.14874</td>\n",
       "      <td>0.003284</td>\n",
       "      <td>0.035404</td>\n",
       "      <td>-0.088382</td>\n",
       "      <td>0.087879</td>\n",
       "      <td>2.8695</td>\n",
       "      <td>-9.3584</td>\n",
       "      <td>1367</td>\n",
       "      <td>1</td>\n",
       "      <td>0</td>\n",
       "    </tr>\n",
       "    <tr>\n",
       "      <th>4</th>\n",
       "      <td>5177</td>\n",
       "      <td>fine_concrete</td>\n",
       "      <td>4</td>\n",
       "      <td>0.97176</td>\n",
       "      <td>-0.18214</td>\n",
       "      <td>-0.019614</td>\n",
       "      <td>0.14874</td>\n",
       "      <td>0.006005</td>\n",
       "      <td>0.038119</td>\n",
       "      <td>-0.084560</td>\n",
       "      <td>0.121400</td>\n",
       "      <td>2.8646</td>\n",
       "      <td>-9.3847</td>\n",
       "      <td>1367</td>\n",
       "      <td>1</td>\n",
       "      <td>0</td>\n",
       "    </tr>\n",
       "  </tbody>\n",
       "</table>\n",
       "</div>"
      ],
      "text/plain": [
       "   series_id        surface  measurement_number  orientation_X  orientation_Y  \\\n",
       "0       5177  fine_concrete                   0        0.97167       -0.18258   \n",
       "1       5177  fine_concrete                   1        0.97169       -0.18247   \n",
       "2       5177  fine_concrete                   2        0.97172       -0.18236   \n",
       "3       5177  fine_concrete                   3        0.97174       -0.18225   \n",
       "4       5177  fine_concrete                   4        0.97176       -0.18214   \n",
       "\n",
       "   orientation_Z  orientation_W  angular_velocity_X  angular_velocity_Y  \\\n",
       "0      -0.019701        0.14876            0.003953            0.031351   \n",
       "1      -0.019699        0.14874            0.003299            0.028777   \n",
       "2      -0.019674        0.14874            0.010289            0.032158   \n",
       "3      -0.019646        0.14874            0.003284            0.035404   \n",
       "4      -0.019614        0.14874            0.006005            0.038119   \n",
       "\n",
       "   angular_velocity_Z  linear_acceleration_X  linear_acceleration_Y  \\\n",
       "0           -0.086012               0.070510                 2.8750   \n",
       "1           -0.090271               0.091805                 2.8709   \n",
       "2           -0.086130               0.115780                 2.8979   \n",
       "3           -0.088382               0.087879                 2.8695   \n",
       "4           -0.084560               0.121400                 2.8646   \n",
       "\n",
       "   linear_acceleration_Z  orig_id  test  new_group_id  \n",
       "0                -9.3821     1367     1             0  \n",
       "1                -9.3610     1367     1             0  \n",
       "2                -9.3569     1367     1             0  \n",
       "3                -9.3584     1367     1             0  \n",
       "4                -9.3847     1367     1             0  "
      ]
     },
     "execution_count": 198,
     "metadata": {},
     "output_type": "execute_result"
    }
   ],
   "source": [
    "a.head()"
   ]
  },
  {
   "cell_type": "code",
   "execution_count": 199,
   "metadata": {},
   "outputs": [],
   "source": [
    "X_test_matched = a.loc[a.series_id > df.series_id.max()]"
   ]
  },
  {
   "cell_type": "code",
   "execution_count": 200,
   "metadata": {},
   "outputs": [
    {
     "data": {
      "text/html": [
       "<div>\n",
       "<style scoped>\n",
       "    .dataframe tbody tr th:only-of-type {\n",
       "        vertical-align: middle;\n",
       "    }\n",
       "\n",
       "    .dataframe tbody tr th {\n",
       "        vertical-align: top;\n",
       "    }\n",
       "\n",
       "    .dataframe thead th {\n",
       "        text-align: right;\n",
       "    }\n",
       "</style>\n",
       "<table border=\"1\" class=\"dataframe\">\n",
       "  <thead>\n",
       "    <tr style=\"text-align: right;\">\n",
       "      <th></th>\n",
       "      <th>series_id</th>\n",
       "      <th>surface</th>\n",
       "    </tr>\n",
       "  </thead>\n",
       "  <tbody>\n",
       "    <tr>\n",
       "      <th>0</th>\n",
       "      <td>0</td>\n",
       "      <td>hard_tiles_large_space</td>\n",
       "    </tr>\n",
       "    <tr>\n",
       "      <th>1</th>\n",
       "      <td>1</td>\n",
       "      <td>concrete</td>\n",
       "    </tr>\n",
       "    <tr>\n",
       "      <th>2</th>\n",
       "      <td>2</td>\n",
       "      <td>tiled</td>\n",
       "    </tr>\n",
       "    <tr>\n",
       "      <th>3</th>\n",
       "      <td>3</td>\n",
       "      <td>carpet</td>\n",
       "    </tr>\n",
       "    <tr>\n",
       "      <th>4</th>\n",
       "      <td>4</td>\n",
       "      <td>soft_tiles</td>\n",
       "    </tr>\n",
       "  </tbody>\n",
       "</table>\n",
       "</div>"
      ],
      "text/plain": [
       "   series_id                 surface\n",
       "0          0  hard_tiles_large_space\n",
       "1          1                concrete\n",
       "2          2                   tiled\n",
       "3          3                  carpet\n",
       "4          4              soft_tiles"
      ]
     },
     "execution_count": 200,
     "metadata": {},
     "output_type": "execute_result"
    }
   ],
   "source": [
    "groups = X_test_matched.groupby('orig_id')\n",
    "data = {'series_id':[],'surface':[]}\n",
    "for name, group in groups:\n",
    "    data['series_id'].append(name)\n",
    "    data['surface'].append(group.surface.iloc[0])\n",
    "output = pd.DataFrame(data)\n",
    "output.head()"
   ]
  },
  {
   "cell_type": "code",
   "execution_count": 201,
   "metadata": {},
   "outputs": [],
   "source": [
    "output.to_csv(path_or_buf = 'Submission4_classified.csv', header = ['series_id','surface'],index=False)"
   ]
  },
  {
   "cell_type": "code",
   "execution_count": null,
   "metadata": {},
   "outputs": [],
   "source": []
  }
 ],
 "metadata": {
  "kernelspec": {
   "display_name": "learn-env",
   "language": "python",
   "name": "learn-env"
  },
  "language_info": {
   "codemirror_mode": {
    "name": "ipython",
    "version": 3
   },
   "file_extension": ".py",
   "mimetype": "text/x-python",
   "name": "python",
   "nbconvert_exporter": "python",
   "pygments_lexer": "ipython3",
   "version": "3.6.6"
  }
 },
 "nbformat": 4,
 "nbformat_minor": 2
}
