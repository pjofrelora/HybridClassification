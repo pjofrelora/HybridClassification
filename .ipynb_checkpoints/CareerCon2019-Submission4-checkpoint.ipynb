{
 "cells": [
  {
   "cell_type": "markdown",
   "metadata": {},
   "source": [
    "# Abstract"
   ]
  },
  {
   "cell_type": "markdown",
   "metadata": {},
   "source": [
    "## Table of Contents\n",
    "1. [Introduction](#section1)\n",
    "2. [Importing and Cleaning Data](#section2)\n",
    "3. [Exploratory Data Analysis](#section3)"
   ]
  },
  {
   "cell_type": "markdown",
   "metadata": {},
   "source": [
    "<a id='section1'></a>\n",
    "## Introduction"
   ]
  },
  {
   "cell_type": "markdown",
   "metadata": {},
   "source": []
  },
  {
   "cell_type": "markdown",
   "metadata": {},
   "source": [
    "<a id='section2'></a>\n",
    "## Importing and Cleaning Data"
   ]
  },
  {
   "cell_type": "code",
   "execution_count": 592,
   "metadata": {},
   "outputs": [],
   "source": [
    "import pandas as pd\n",
    "import numpy as np\n",
    "from scipy.fftpack import fft\n",
    "from random import shuffle\n",
    "from scipy.signal import find_peaks\n",
    "import matplotlib.pyplot as plt\n",
    "from ipywidgets import interact, interact_manual\n",
    "from scipy.signal import welch, periodogram\n",
    "from librosa.feature import zero_crossing_rate\n",
    "from sklearn.decomposition import PCA\n",
    "from sklearn import preprocessing\n",
    "from scipy.stats import gaussian_kde\n",
    "from matplotlib.ticker import MultipleLocator\n",
    "import time\n",
    "import seaborn as sns\n",
    "from sklearn.model_selection import train_test_split\n",
    "import pywt\n",
    "from sklearn.ensemble import RandomForestClassifier\n",
    "from sklearn.metrics import classification_report"
   ]
  },
  {
   "cell_type": "markdown",
   "metadata": {},
   "source": [
    "I'll preview the data first."
   ]
  },
  {
   "cell_type": "code",
   "execution_count": 2,
   "metadata": {},
   "outputs": [],
   "source": [
    "features = pd.read_csv('X_train.csv')\n",
    "target = pd.read_csv('y_train.csv')\n",
    "df = pd.merge(target, features, how = 'outer', left_on = 'series_id', right_on = 'series_id')"
   ]
  },
  {
   "cell_type": "code",
   "execution_count": 304,
   "metadata": {},
   "outputs": [
    {
     "data": {
      "text/html": [
       "<div>\n",
       "<style scoped>\n",
       "    .dataframe tbody tr th:only-of-type {\n",
       "        vertical-align: middle;\n",
       "    }\n",
       "\n",
       "    .dataframe tbody tr th {\n",
       "        vertical-align: top;\n",
       "    }\n",
       "\n",
       "    .dataframe thead th {\n",
       "        text-align: right;\n",
       "    }\n",
       "</style>\n",
       "<table border=\"1\" class=\"dataframe\">\n",
       "  <thead>\n",
       "    <tr style=\"text-align: right;\">\n",
       "      <th></th>\n",
       "      <th>series_id</th>\n",
       "      <th>surface</th>\n",
       "      <th>measurement_number</th>\n",
       "      <th>orientation_X</th>\n",
       "      <th>orientation_Y</th>\n",
       "      <th>orientation_Z</th>\n",
       "      <th>orientation_W</th>\n",
       "      <th>angular_velocity_X</th>\n",
       "      <th>angular_velocity_Y</th>\n",
       "      <th>angular_velocity_Z</th>\n",
       "      <th>linear_acceleration_X</th>\n",
       "      <th>linear_acceleration_Y</th>\n",
       "      <th>linear_acceleration_Z</th>\n",
       "      <th>orig_id</th>\n",
       "    </tr>\n",
       "  </thead>\n",
       "  <tbody>\n",
       "    <tr>\n",
       "      <th>487675</th>\n",
       "      <td>3809</td>\n",
       "      <td>soft_pvc</td>\n",
       "      <td>123</td>\n",
       "      <td>0.62871</td>\n",
       "      <td>-0.76878</td>\n",
       "      <td>-0.084391</td>\n",
       "      <td>0.081093</td>\n",
       "      <td>0.003167</td>\n",
       "      <td>0.093760</td>\n",
       "      <td>-0.14274</td>\n",
       "      <td>3.27180</td>\n",
       "      <td>2.0115</td>\n",
       "      <td>-9.0063</td>\n",
       "      <td>3809</td>\n",
       "    </tr>\n",
       "    <tr>\n",
       "      <th>487676</th>\n",
       "      <td>3809</td>\n",
       "      <td>soft_pvc</td>\n",
       "      <td>124</td>\n",
       "      <td>0.62884</td>\n",
       "      <td>-0.76868</td>\n",
       "      <td>-0.084365</td>\n",
       "      <td>0.081099</td>\n",
       "      <td>0.014994</td>\n",
       "      <td>0.032637</td>\n",
       "      <td>-0.13238</td>\n",
       "      <td>4.42750</td>\n",
       "      <td>3.0696</td>\n",
       "      <td>-8.1257</td>\n",
       "      <td>3809</td>\n",
       "    </tr>\n",
       "    <tr>\n",
       "      <th>487677</th>\n",
       "      <td>3809</td>\n",
       "      <td>soft_pvc</td>\n",
       "      <td>125</td>\n",
       "      <td>0.62891</td>\n",
       "      <td>-0.76861</td>\n",
       "      <td>-0.084345</td>\n",
       "      <td>0.081178</td>\n",
       "      <td>-0.031184</td>\n",
       "      <td>-0.003961</td>\n",
       "      <td>-0.13894</td>\n",
       "      <td>2.70480</td>\n",
       "      <td>4.2622</td>\n",
       "      <td>-8.1443</td>\n",
       "      <td>3809</td>\n",
       "    </tr>\n",
       "    <tr>\n",
       "      <th>487678</th>\n",
       "      <td>3809</td>\n",
       "      <td>soft_pvc</td>\n",
       "      <td>126</td>\n",
       "      <td>0.62903</td>\n",
       "      <td>-0.76850</td>\n",
       "      <td>-0.084414</td>\n",
       "      <td>0.081231</td>\n",
       "      <td>-0.069153</td>\n",
       "      <td>0.013229</td>\n",
       "      <td>-0.13021</td>\n",
       "      <td>2.54100</td>\n",
       "      <td>4.7130</td>\n",
       "      <td>-9.4435</td>\n",
       "      <td>3809</td>\n",
       "    </tr>\n",
       "    <tr>\n",
       "      <th>487679</th>\n",
       "      <td>3809</td>\n",
       "      <td>soft_pvc</td>\n",
       "      <td>127</td>\n",
       "      <td>0.62915</td>\n",
       "      <td>-0.76839</td>\n",
       "      <td>-0.084441</td>\n",
       "      <td>0.081284</td>\n",
       "      <td>-0.042769</td>\n",
       "      <td>0.034049</td>\n",
       "      <td>-0.12580</td>\n",
       "      <td>0.82391</td>\n",
       "      <td>4.2751</td>\n",
       "      <td>-10.4980</td>\n",
       "      <td>3809</td>\n",
       "    </tr>\n",
       "  </tbody>\n",
       "</table>\n",
       "</div>"
      ],
      "text/plain": [
       "        series_id   surface  measurement_number  orientation_X  orientation_Y  \\\n",
       "487675       3809  soft_pvc                 123        0.62871       -0.76878   \n",
       "487676       3809  soft_pvc                 124        0.62884       -0.76868   \n",
       "487677       3809  soft_pvc                 125        0.62891       -0.76861   \n",
       "487678       3809  soft_pvc                 126        0.62903       -0.76850   \n",
       "487679       3809  soft_pvc                 127        0.62915       -0.76839   \n",
       "\n",
       "        orientation_Z  orientation_W  angular_velocity_X  angular_velocity_Y  \\\n",
       "487675      -0.084391       0.081093            0.003167            0.093760   \n",
       "487676      -0.084365       0.081099            0.014994            0.032637   \n",
       "487677      -0.084345       0.081178           -0.031184           -0.003961   \n",
       "487678      -0.084414       0.081231           -0.069153            0.013229   \n",
       "487679      -0.084441       0.081284           -0.042769            0.034049   \n",
       "\n",
       "        angular_velocity_Z  linear_acceleration_X  linear_acceleration_Y  \\\n",
       "487675            -0.14274                3.27180                 2.0115   \n",
       "487676            -0.13238                4.42750                 3.0696   \n",
       "487677            -0.13894                2.70480                 4.2622   \n",
       "487678            -0.13021                2.54100                 4.7130   \n",
       "487679            -0.12580                0.82391                 4.2751   \n",
       "\n",
       "        linear_acceleration_Z  orig_id  \n",
       "487675                -9.0063     3809  \n",
       "487676                -8.1257     3809  \n",
       "487677                -8.1443     3809  \n",
       "487678                -9.4435     3809  \n",
       "487679               -10.4980     3809  "
      ]
     },
     "execution_count": 304,
     "metadata": {},
     "output_type": "execute_result"
    }
   ],
   "source": [
    "df.tail()"
   ]
  },
  {
   "cell_type": "code",
   "execution_count": null,
   "metadata": {
    "scrolled": true
   },
   "outputs": [],
   "source": [
    "features.groupby('series_id').mean().describe()"
   ]
  },
  {
   "cell_type": "code",
   "execution_count": 3,
   "metadata": {},
   "outputs": [],
   "source": [
    "surfaces = list(df.surface.unique())\n",
    "features = list(df.columns[9:])"
   ]
  },
  {
   "cell_type": "markdown",
   "metadata": {},
   "source": [
    "Since the data was recorded in groups, it is helpful to stitch it back together in order to better differentiate the underlying signals and upsample to increase the amount of training data. Upsampling can be done by slicing the data for 128 samples at every interval, since the original slicing was arbitrary to begin with.\n",
    "Stitching the data will also help to understand the holistic motion of the robot.\n",
    "\n",
    "The graph below shows how the data can stitched using location cues. Series are stitched together so that the last entry of a series in an orientation is continuous with the first entry of the same orientation in a different series. This is equivalent to moving the lines below so that they they form one continuous line."
   ]
  },
  {
   "cell_type": "code",
   "execution_count": null,
   "metadata": {
    "scrolled": false
   },
   "outputs": [],
   "source": [
    "g = df.groupby(by = 'group_id')\n",
    "g67 = g.get_group(67)\n",
    "g67_g = g67.groupby('series_id')\n",
    "f, axes = plt.subplots(2, 2, figsize = (12,8))\n",
    "axs = [axes[0,0], axes[0,1], axes[1,0], axes[1,1]]\n",
    "orientations = ['orientation_X','orientation_Y','orientation_Z','orientation_W']\n",
    "for name, group in g67_g:\n",
    "    for ax,orientation in zip(axs,orientations):\n",
    "        group[orientation].plot(label = name, ax=ax, title = orientation)"
   ]
  },
  {
   "cell_type": "code",
   "execution_count": 4,
   "metadata": {},
   "outputs": [],
   "source": [
    "def find_matches(current_signal, df, in_front = True, threshold = 0.01):\n",
    "    ## Returns a dataframe of the series ids, sums, and position (front/end) of the likely matches for the given front and end values.\n",
    "    orientations = ['orientation_X','orientation_Y','orientation_Z','orientation_W']\n",
    "    selection = ['series_id'] + orientations\n",
    "    if in_front:\n",
    "        end = current_signal.iloc[127][selection]\n",
    "        front = df.loc[df.measurement_number ==0][selection]\n",
    "    else:\n",
    "        front = current_signal.iloc[0][selection]\n",
    "        end = df.loc[df.measurement_number ==127][selection]\n",
    "    compare = (front-end).abs()\n",
    "    if in_front:\n",
    "        compare.series_id = front.series_id\n",
    "    else:\n",
    "        compare.series_id = end.series_id\n",
    "    compare['sums'] = compare[orientations].sum(axis=1)\n",
    "    compare['in_front'] = in_front\n",
    "    compare.drop(labels = orientations, axis = 1, inplace = True)\n",
    "    compare.sort_values(by = 'sums', inplace = True)\n",
    "    if any(compare.sums < threshold):\n",
    "        return compare.loc[compare.sums < threshold], True\n",
    "    else:\n",
    "        return 0,False"
   ]
  },
  {
   "cell_type": "code",
   "execution_count": null,
   "metadata": {
    "scrolled": true
   },
   "outputs": [],
   "source": [
    "series = 0\n",
    "signal = df.loc[df.series_id==series]\n",
    "candidates,match = find_matches(signal, df.loc[df.series_id != series], in_front = True)\n",
    "candidates"
   ]
  },
  {
   "cell_type": "code",
   "execution_count": 5,
   "metadata": {},
   "outputs": [
    {
     "data": {
      "text/plain": [
       "True"
      ]
     },
     "execution_count": 5,
     "metadata": {},
     "output_type": "execute_result"
    }
   ],
   "source": [
    "def continuity(current_signal, compare_signal, in_front = True, merge_threshold = 4, slope_threshold = 6):\n",
    "    orientations = ['orientation_X','orientation_Y','orientation_Z','orientation_W']\n",
    "    select = ['series_id'] + orientations\n",
    "    if in_front:\n",
    "        end = current_signal[select]\n",
    "        front = compare_signal[select]\n",
    "    else:\n",
    "        front = current_signal[select]\n",
    "        end = compare_signal[select]\n",
    "    stitched = pd.concat([end,front])\n",
    "    diff = stitched.diff()\n",
    "    \n",
    "    # Check for continuity based on difference at merge point\n",
    "    mean = diff[orientations].iloc[120:127].mean()\n",
    "    std = diff[orientations].iloc[120:127].std()\n",
    "    test = (diff[orientations].iloc[128]-mean)/std\n",
    "    if any(test.abs() > merge_threshold):\n",
    "        return False\n",
    "    \n",
    "    # Check for continuity based on slopes (t-test of means)\n",
    "    slope_front = diff[orientations].iloc[120:127].mean()\n",
    "    std_front = diff[orientations].iloc[120:127].std()\n",
    "    var_front = std_front.apply(np.square)\n",
    "    slope_end = diff[orientations].iloc[129:136].mean()\n",
    "    std_end = diff[orientations].iloc[129:136].std()\n",
    "    var_end = std_end.apply(np.square)\n",
    "    t_value = (slope_front-slope_end)/(var_front/8+var_end/8).apply(np.sqrt)\n",
    "    if any(t_value.abs() > slope_threshold):\n",
    "        return False\n",
    "    \n",
    "    return True\n",
    "current_signal = df.loc[df.series_id==47]\n",
    "compare_signal = df.loc[df.series_id==92]\n",
    "continuity(current_signal,compare_signal, in_front = True)"
   ]
  },
  {
   "cell_type": "code",
   "execution_count": 6,
   "metadata": {},
   "outputs": [],
   "source": [
    "def group_series(df, match_threshold = 0.01, continuity_thresholds = (4,6)):\n",
    "    df_c = df.copy()\n",
    "    # Create variables\n",
    "    lookup_dictionary = {}\n",
    "    new_group_id = -1\n",
    "    # Cycle through df\n",
    "    while len(df_c):\n",
    "        # Add new group to lookup dictionary\n",
    "        new_group_id +=1\n",
    "        lookup_dictionary[new_group_id] = []\n",
    "        # Start by selecting first available signal\n",
    "        start_series = df_c.series_id.unique()[0]\n",
    "        start_signal = df_c.loc[df_c.series_id==start_series]\n",
    "        current_signal = start_signal\n",
    "        # Add series to lookup dictionary\n",
    "        lookup_dictionary[new_group_id].append(start_series)\n",
    "        # Delete entry from df\n",
    "        indices =  start_signal.index\n",
    "        df_c.drop(indices,inplace = True)\n",
    "        # Prepare to expand forwards and backwards\n",
    "        expand_forward = True\n",
    "        expand_backward = True\n",
    "        # Expand signal forward first\n",
    "        while (expand_forward) & (len(df_c)>0):\n",
    "            candidates, match = find_matches(current_signal, \n",
    "                                             df_c, \n",
    "                                             in_front = True,\n",
    "                                             threshold = match_threshold)\n",
    "            continuity_tracker = []\n",
    "            if match:\n",
    "                for _,candidate in candidates.iterrows():\n",
    "                    compare_signal = df_c.loc[df_c.series_id == candidate.series_id]\n",
    "                    if continuity(current_signal, \n",
    "                                  compare_signal, \n",
    "                                  in_front = candidate.in_front,\n",
    "                                  merge_threshold = continuity_thresholds[0],\n",
    "                                  slope_threshold = continuity_thresholds[1]):\n",
    "                        current_series = candidate.series_id\n",
    "                        lookup_dictionary[new_group_id].append(current_series)\n",
    "                        current_signal = df_c.loc[df_c.series_id==current_series]\n",
    "                        df_c.drop(current_signal.index, inplace = True)\n",
    "                        continuity_tracker.append(True)\n",
    "                        break\n",
    "                    else:\n",
    "                        continuity_tracker.append(False)\n",
    "                if any(continuity_tracker):\n",
    "                    continue\n",
    "                else: # If nothing passed the continuity check then stop expanding forward\n",
    "                    expand_forward = False\n",
    "            else: # If no candidates, then stop expanding forward\n",
    "                expand_forward = False\n",
    "            # Clean variable space\n",
    "            del candidates,match\n",
    "        # Expand signal backwards\n",
    "        current_signal = start_signal\n",
    "        while (expand_backward) & (len(df_c)>0):\n",
    "            candidates, match = find_matches(current_signal, \n",
    "                                             df_c, \n",
    "                                             in_front = False,\n",
    "                                             threshold = match_threshold)\n",
    "            continuity_tracker = []\n",
    "            if match:\n",
    "                for _,candidate in candidates.iterrows():\n",
    "                    compare_signal = df_c.loc[df_c.series_id == candidate.series_id]\n",
    "                    if continuity(current_signal, \n",
    "                                  compare_signal, \n",
    "                                  in_front = candidate.in_front,\n",
    "                                  merge_threshold = continuity_thresholds[0],\n",
    "                                  slope_threshold = continuity_thresholds[1]):\n",
    "                        current_series = candidate.series_id\n",
    "                        lookup_dictionary[new_group_id].insert(0,current_series)\n",
    "                        current_signal = df_c.loc[df_c.series_id==current_series]\n",
    "                        df_c.drop(current_signal.index, inplace = True)\n",
    "                        continuity_tracker.append(True)\n",
    "                        break\n",
    "                    else:\n",
    "                        continuity_tracker.append(False)\n",
    "                if any(continuity_tracker):\n",
    "                    continue\n",
    "                else: # If nothing passed the continuity check then stop expanding forward\n",
    "                    expand_backward = False\n",
    "            else: # If no candidates, then stop expanding forward\n",
    "                expand_backward = False\n",
    "            # Clean variable space\n",
    "            del candidates, match\n",
    "            \n",
    "    return lookup_dictionary"
   ]
  },
  {
   "cell_type": "code",
   "execution_count": null,
   "metadata": {},
   "outputs": [],
   "source": [
    "start = time.time()\n",
    "test = group_series(df,match_threshold=0.05, continuity_thresholds=(6,9))\n",
    "stop = time.time()\n",
    "stop-start"
   ]
  },
  {
   "cell_type": "code",
   "execution_count": 7,
   "metadata": {
    "scrolled": false
   },
   "outputs": [],
   "source": [
    "def stitch_series(df,ordered_series_array):\n",
    "    osa = ordered_series_array\n",
    "    g = df.groupby('series_id')\n",
    "    sub_dfs = []\n",
    "    for series in osa:\n",
    "        temp_df = g.get_group(series)\n",
    "        sub_dfs.append(temp_df)\n",
    "    df_out = pd.concat(sub_dfs)\n",
    "    df_out.measurement_number = list(range(0,len(df_out)))\n",
    "    return df_out"
   ]
  },
  {
   "cell_type": "markdown",
   "metadata": {},
   "source": [
    "Now I'll make a new dataframe with the grouped series that I can analyze more closely."
   ]
  },
  {
   "cell_type": "code",
   "execution_count": null,
   "metadata": {
    "scrolled": false
   },
   "outputs": [],
   "source": [
    "sub_dfs = []\n",
    "for key, group in new_groups.items():\n",
    "    temp_df = stitch_series(df,group)\n",
    "    temp_df['new_group_id'] = key\n",
    "    sub_dfs.append(temp_df)\n",
    "stitched = pd.concat(sub_dfs)"
   ]
  },
  {
   "cell_type": "code",
   "execution_count": null,
   "metadata": {},
   "outputs": [],
   "source": [
    "stitched[stitched.new_group_id==0].surface.unique()"
   ]
  },
  {
   "cell_type": "code",
   "execution_count": null,
   "metadata": {},
   "outputs": [],
   "source": [
    "# Now I'll check to make sure that each new group is homogenous with regards to a surface\n",
    "g = stitched.groupby('new_group_id')\n",
    "surface_count = []\n",
    "sample_count = []\n",
    "for name, group in g:\n",
    "    surfaces = group.surface.unique()\n",
    "    surface_count.append(len(surfaces))\n",
    "    sample_count.append(len(group))\n",
    "print(max(surface_count))\n",
    "print(min(sample_count))\n",
    "print(max(sample_count))"
   ]
  },
  {
   "cell_type": "code",
   "execution_count": null,
   "metadata": {
    "scrolled": true
   },
   "outputs": [],
   "source": [
    "from matplotlib.ticker import MultipleLocator\n",
    "sub_stitched = stitched.loc[stitched.surface=='carpet']\n",
    "g = sub_stitched.groupby('new_group_id')\n",
    "for name,group in g:\n",
    "    data = group.orientation_X.values\n",
    "    f, ax = plt.subplots(figsize = (12,4))\n",
    "    plt.plot(data)\n",
    "    plt.title(name)\n",
    "    minorLocator = MultipleLocator(128)\n",
    "    ax.xaxis.set_minor_locator(minorLocator)\n",
    "    ax.grid(which = 'minor')\n",
    "    plt.show()"
   ]
  },
  {
   "cell_type": "markdown",
   "metadata": {},
   "source": [
    "I have reason to believe that the stitching put together groups that didn't exist before. The longest group that was stitched is 17920 samples long (140 series). I'll check to see if the original dataset has a group with an equal number of samples"
   ]
  },
  {
   "cell_type": "code",
   "execution_count": null,
   "metadata": {},
   "outputs": [],
   "source": [
    "g = stitched.groupby('group_id')\n",
    "sample_count = []\n",
    "for name, group in g:\n",
    "    surfaces = group.surface.unique()\n",
    "    surface_count.append(len(surfaces))\n",
    "    sample_count.append(len(group))\n",
    "print(max(sample_count))"
   ]
  },
  {
   "cell_type": "markdown",
   "metadata": {},
   "source": [
    "My suspicion is confirmed. The data was cut up into groups. It is possible that the test data was cut up from the train data, so I'll toss all of the data into one large dataframe and stitch it together. At worst, I'll have all of the data stitched. I can get rid of group_id and row_id since I won't be using those. I'll then make sure that series ids are unique between the groups, and merge the groups using \"no_surface\" as the surface for the unknown groups."
   ]
  },
  {
   "cell_type": "code",
   "execution_count": 8,
   "metadata": {
    "scrolled": true
   },
   "outputs": [],
   "source": [
    "X_test = pd.read_csv('X_test.csv')\n",
    "df.drop(['row_id','group_id'], axis = 1, inplace = True)\n",
    "df['orig_id'] = df.series_id\n",
    "df['test'] = 0\n",
    "X_test.drop(['row_id'], axis = 1, inplace = True)\n",
    "X_test['surface'] = 'no_surface'\n",
    "X_test['orig_id'] = X_test.series_id\n",
    "X_test['test'] = 1\n",
    "X_test.series_id += df.series_id.max()+1"
   ]
  },
  {
   "cell_type": "code",
   "execution_count": 145,
   "metadata": {
    "scrolled": true
   },
   "outputs": [],
   "source": [
    "all_data = pd.concat([df,X_test], sort=False, ignore_index=True)"
   ]
  },
  {
   "cell_type": "code",
   "execution_count": 83,
   "metadata": {},
   "outputs": [
    {
     "data": {
      "text/plain": [
       "1109.2782797813416"
      ]
     },
     "execution_count": 83,
     "metadata": {},
     "output_type": "execute_result"
    }
   ],
   "source": [
    "start = time.time()\n",
    "groups = group_series(all_data,match_threshold=0.05, continuity_thresholds=(9,9))\n",
    "stop = time.time()\n",
    "stop-start"
   ]
  },
  {
   "cell_type": "code",
   "execution_count": 85,
   "metadata": {},
   "outputs": [],
   "source": [
    "sub_dfs = []\n",
    "for key, group in groups.items():\n",
    "    temp_df = stitch_series(all_data,group)\n",
    "    temp_df['new_group_id'] = key\n",
    "    sub_dfs.append(temp_df)\n",
    "all_stitched = pd.concat(sub_dfs)"
   ]
  },
  {
   "cell_type": "code",
   "execution_count": 87,
   "metadata": {},
   "outputs": [
    {
     "name": "stdout",
     "output_type": "stream",
     "text": [
      "3\n",
      "128\n",
      "86528\n"
     ]
    }
   ],
   "source": [
    "g = all_stitched.groupby('new_group_id')\n",
    "surface_count = []\n",
    "sample_count = []\n",
    "for name, group in g:\n",
    "    surfaces = group.surface.unique()\n",
    "    surface_count.append(len(surfaces))\n",
    "    sample_count.append(len(group))\n",
    "print(max(surface_count))\n",
    "print(min(sample_count))\n",
    "print(max(sample_count))"
   ]
  },
  {
   "cell_type": "code",
   "execution_count": 92,
   "metadata": {
    "scrolled": true
   },
   "outputs": [
    {
     "name": "stderr",
     "output_type": "stream",
     "text": [
      "/anaconda3/envs/learn-env/lib/python3.6/site-packages/pandas/core/generic.py:4405: SettingWithCopyWarning: \n",
      "A value is trying to be set on a copy of a slice from a DataFrame.\n",
      "Try using .loc[row_indexer,col_indexer] = value instead\n",
      "\n",
      "See the caveats in the documentation: http://pandas.pydata.org/pandas-docs/stable/indexing.html#indexing-view-versus-copy\n",
      "  self[name] = value\n"
     ]
    }
   ],
   "source": [
    "new_dfs = []\n",
    "error_surfaces = []\n",
    "error_group_ids = []\n",
    "matched = 0\n",
    "unmatched = 0\n",
    "for name, group in g:\n",
    "    surfaces = list(group.surface.unique())\n",
    "    if (len(surfaces)==2) & ('no_surface' in surfaces):\n",
    "        surfaces.remove('no_surface')\n",
    "        group.surface = surfaces[0]\n",
    "        new_dfs.append(group)\n",
    "        matched +=1\n",
    "    elif (len(surfaces)==2) & ('no_surface' not in surfaces):\n",
    "        error_surfaces.append(surfaces)\n",
    "        new_dfs.append(group)\n",
    "    elif (len(surfaces)==3):\n",
    "        error_surfaces.append(surfaces)\n",
    "        error_group_ids.append(name)\n",
    "        new_dfs.append(group)\n",
    "    else:\n",
    "        new_dfs.append(group)\n",
    "        if surfaces[0] == 'no_surface':\n",
    "            unmatched += 1\n",
    "sorted_data = pd.concat(new_dfs)"
   ]
  },
  {
   "cell_type": "code",
   "execution_count": 292,
   "metadata": {
    "scrolled": true
   },
   "outputs": [
    {
     "data": {
      "text/plain": [
       "<matplotlib.axes._subplots.AxesSubplot at 0x1c4ef2acc0>"
      ]
     },
     "execution_count": 292,
     "metadata": {},
     "output_type": "execute_result"
    },
    {
     "data": {
      "image/png": "[encoded data removed]",
      "text/plain": [
       "<Figure size 432x288 with 1 Axes>"
      ]
     },
     "metadata": {
      "needs_background": "light"
     },
     "output_type": "display_data"
    }
   ],
   "source": [
    "g = all_stitched.groupby('new_group_id')\n",
    "test = g.get_group(0)\n",
    "sns.lineplot(x='measurement_number',y='orientation_Y',data = test, hue='surface')"
   ]
  },
  {
   "cell_type": "markdown",
   "metadata": {},
   "source": [
    "Some of the series were assigned surfaces because of the stitching, but about 30% of the series still need to be classified. Luckily, the majority of those series are stitched together into sets much longer than 1 series. I will classify each series individually, but then rely on the majority classification to make the final decision. If this works well on the training set then I can import it to the test set.\n",
    "\n",
    "I'll transform the data first, and then make a test/train set."
   ]
  },
  {
   "cell_type": "code",
   "execution_count": 555,
   "metadata": {},
   "outputs": [],
   "source": [
    "train_data = sorted_data[sorted_data.surface != 'no_surface']"
   ]
  },
  {
   "cell_type": "markdown",
   "metadata": {},
   "source": [
    "I need to engineer some features. Below are some functions to help me engineer these features."
   ]
  },
  {
   "cell_type": "code",
   "execution_count": 203,
   "metadata": {},
   "outputs": [],
   "source": [
    "def rms(data):\n",
    "    squared = np.square(data)\n",
    "    mean = np.mean(squared)\n",
    "    rms = np.sqrt(mean)\n",
    "    return rms"
   ]
  },
  {
   "cell_type": "code",
   "execution_count": 204,
   "metadata": {
    "scrolled": true
   },
   "outputs": [],
   "source": [
    "def upsample(group,feature, scale = 128, length = 128):\n",
    "    series = group[feature]\n",
    "    series_list = []\n",
    "    for i in range(0,len(group)-(length-1),scale):\n",
    "        start = i\n",
    "        end = i+length\n",
    "        temp_series = series.iloc[start:end].values\n",
    "        series_list.append(temp_series)\n",
    "    return series_list"
   ]
  },
  {
   "cell_type": "code",
   "execution_count": 556,
   "metadata": {
    "scrolled": false
   },
   "outputs": [
    {
     "data": {
      "application/vnd.jupyter.widget-view+json": {
       "model_id": "74cb11d8a7fe494ab13a434c41229309",
       "version_major": 2,
       "version_minor": 0
      },
      "text/plain": [
       "interactive(children=(Dropdown(description='surface', options=('fine_concrete', 'concrete', 'wood', 'soft_tile…"
      ]
     },
     "metadata": {},
     "output_type": "display_data"
    }
   ],
   "source": [
    "surfaces = list(data.surface.unique())\n",
    "@interact_manual\n",
    "def plot_series(surface = surfaces, feature = features, center = (-12,12,0.1), width = (0.1,12,0.1), differencing = False):\n",
    "    surface_name = surface\n",
    "    surface = train_data.loc[train_data.surface == surface]\n",
    "    g = surface.groupby('new_group_id')\n",
    "    series = list(g.groups.keys())\n",
    "    plt.figure(figsize=(15,15))\n",
    "    for i,key in enumerate(series[0:4]):\n",
    "        ax = plt.subplot(2,2,(i+1))\n",
    "        if not differencing:\n",
    "            signal = g.get_group(key)[feature].values\n",
    "            title = surface_name.title().replace('_',' ')\n",
    "        else:\n",
    "            RMS = rms(g.get_group(key)[feature].diff(periods=1).dropna())\n",
    "            title = '{0}\\nRMS: {1:1.3f}'.format(surface_name.title().replace('_',' '),RMS)\n",
    "            signal = g.get_group(key)[feature].diff(periods=1).values\n",
    "        ax.plot(signal)\n",
    "        ax.set_title(title)\n",
    "        ax.set_ylim((center-width,center+width))"
   ]
  },
  {
   "cell_type": "code",
   "execution_count": 557,
   "metadata": {},
   "outputs": [
    {
     "data": {
      "application/vnd.jupyter.widget-view+json": {
       "model_id": "e2288d8930b643859801032f368cf0e7",
       "version_major": 2,
       "version_minor": 0
      },
      "text/plain": [
       "interactive(children=(Dropdown(description='surface', options=('fine_concrete', 'concrete', 'wood', 'soft_tile…"
      ]
     },
     "metadata": {},
     "output_type": "display_data"
    }
   ],
   "source": [
    "@interact_manual\n",
    "def plot_psd(surface = surfaces, feature = features, max = (0,15,0.25), differencing = False):\n",
    "    surface_name = surface\n",
    "    surface = train_data.loc[train_data.surface == surface]\n",
    "    g = surface.groupby('new_group_id')\n",
    "    series = list(g.groups.keys())\n",
    "    plt.figure(figsize=(12,8))\n",
    "    for i,key in enumerate(series[0:4]):\n",
    "        if not differencing:\n",
    "            signal = g.get_group(key)[feature].values\n",
    "            title = surface_name.title().replace('_',' ')\n",
    "            freq,psd = welch(signal)\n",
    "        else:\n",
    "            RMS = rms(g.get_group(key)[feature].diff(periods=1).dropna())\n",
    "            title = '{0}\\nRMS: {1:1.3f}'.format(surface_name.title().replace('_',' '),RMS)\n",
    "            signal = g.get_group(key)[feature].diff(periods=1).values\n",
    "            freq,psd = welch(signal)\n",
    "        plt.plot(freq,psd)\n",
    "    plt.title(title)\n",
    "    plt.ylim((0,max))"
   ]
  },
  {
   "cell_type": "markdown",
   "metadata": {},
   "source": [
    "The following is a description of the motion of the robot for each feature:<br>\n",
    "**angular_velocity_X:** How the robot wobbles front-to-back<br>\n",
    "**angular_velocity_Y:** How the robot wobbles left-to-right<br>\n",
    "**angular_velocity_Z:** How the robot pivots as it moves (one side advancing faster than the other momentarily)<br>\n",
    "**linear_acceleration_X:** How the robot strafes/skips left-to-right<br>\n",
    "**linear_acceleration_Y:** How the robot skips forwards-and-backwards (or how it slips and grips)<br>\n",
    "**linear_acceleration_Z:** How the robot bounces up-and-down<br>"
   ]
  },
  {
   "cell_type": "markdown",
   "metadata": {},
   "source": [
    "It appears that every feature has a somewhat unique \"jitter\" (peak in the PSD) for a given surface. Calculating this jitter allows me to transform the data from a time-domain to a frequency-domain, which reduces each run down to a single set of numbers."
   ]
  },
  {
   "cell_type": "code",
   "execution_count": 581,
   "metadata": {},
   "outputs": [],
   "source": [
    "def scalogram(data, title = None):\n",
    "    bottom = 0\n",
    "\n",
    "    vmin = min(map(lambda x: min(abs(x)), data))\n",
    "    vmax = max(map(lambda x: max(abs(x)), data))\n",
    "\n",
    "    plt.figure(figsize = (12,8))\n",
    "    #plt.set_autoscale_on(False)\n",
    "    for row in range(0, len(data)):\n",
    "        scale = 2.0 ** (row - len(data))\n",
    "\n",
    "        plt.imshow(\n",
    "            np.array([abs(data[row])]),\n",
    "            interpolation = 'spline36',\n",
    "            vmin = vmin,\n",
    "            vmax = vmax,\n",
    "            extent = [0, 1, bottom, bottom + scale])\n",
    "\n",
    "        bottom += scale\n",
    "    plt.colorbar()\n",
    "    plt.ylim(0,bottom)\n",
    "    if title:\n",
    "        plt.title(title)"
   ]
  },
  {
   "cell_type": "code",
   "execution_count": 585,
   "metadata": {},
   "outputs": [
    {
     "data": {
      "application/vnd.jupyter.widget-view+json": {
       "model_id": "e6424b9475864c5cbdd48271dff78bd4",
       "version_major": 2,
       "version_minor": 0
      },
      "text/plain": [
       "interactive(children=(Dropdown(description='series_id', options=(5177, 5243, 5873, 5521, 6817, 6955, 7504, 559…"
      ]
     },
     "metadata": {},
     "output_type": "display_data"
    }
   ],
   "source": [
    "@interact\n",
    "def plt_scalogram(series_id = sorted_data.series_id.unique()):\n",
    "    t1 = sorted_data[sorted_data.series_id==series_id]\n",
    "    coeffs = pywt.wavedec(t1.angular_velocity_X,'bior1.3',level = 4)\n",
    "    #coeffs[-1] = np.zeros_like(coeffs[-1])\n",
    "    scalogram(coeffs, title = t1.surface.iloc[0])"
   ]
  },
  {
   "cell_type": "code",
   "execution_count": 616,
   "metadata": {
    "scrolled": true
   },
   "outputs": [],
   "source": [
    "g = train_data.groupby('series_id')\n",
    "series = list(g.groups.keys())\n",
    "data = {}\n",
    "data['series_id'] = []\n",
    "data['new_group_id'] = []\n",
    "data['surface'] = []\n",
    "for s_key in series:\n",
    "    data['series_id'].append(s_key)\n",
    "    data['new_group_id'].append(g.get_group(s_key)['new_group_id'].iloc[0])\n",
    "    data['surface'].append(g.get_group(s_key)['surface'].iloc[0])\n",
    "    for feature in features:\n",
    "        # Get signal\n",
    "        signal = g.get_group(s_key)[feature]\n",
    "        signald = signal.diff(1).dropna()\n",
    "        # Set dictionary keys for time-based features\n",
    "        range_key = '{0}_range'.format(feature)\n",
    "        RMS_key = '{0}_RMS'.format(feature)\n",
    "        std_key = '{0}_std'.format(feature)\n",
    "        entropy_key = '{0}_entropy'.format(feature)\n",
    "        zc_key = '{0}_zc'.format(feature)\n",
    "        if range_key not in data.keys():\n",
    "            data[range_key] = []\n",
    "            data[RMS_key] = []\n",
    "            data[std_key] = []\n",
    "            data[entropy_key] = []\n",
    "            data[zc_key] = []\n",
    "        # Write time-based features\n",
    "        data[range_key].append(signald.max()-signald.min())\n",
    "        data[RMS_key].append(rms(signald))\n",
    "        data[std_key].append(signald.std())\n",
    "        data[zc_key].append(zero_crossing_rate(np.array(signald)))\n",
    "        # Calculate entropy (PSD is needed for entropy)\n",
    "        _,psd_values = welch(signal, nperseg = 64)\n",
    "        psd_values_normalized = psd_values/psd_values.sum()\n",
    "        entropy = -np.sum([i*np.log(i) for i in psd_values_normalized])\n",
    "        data[entropy_key].append(entropy)\n",
    "        coeffs = pywt.wavedec(signal,'bior1.3',1)\n",
    "        coeffs_ravel = pywt.ravel_coeffs(coeffs)\n",
    "        # Store coeff values\n",
    "        for i,value in enumerate(coeffs_ravel[0]):\n",
    "            # Store datum\n",
    "            y_key = '{0}_wt_{1}'.format(feature,i)\n",
    "            if y_key not in data.keys():\n",
    "                data[y_key] = []\n",
    "            data[y_key].append(value)\n",
    "        # Store psd values\n",
    "        for i,value in enumerate(psd_values):\n",
    "            # Store datum\n",
    "            y_key = '{0}_psd_{1}'.format(feature,i)\n",
    "            if y_key not in data.keys():\n",
    "                data[y_key] = []\n",
    "            data[y_key].append(value)"
   ]
  },
  {
   "cell_type": "code",
   "execution_count": 617,
   "metadata": {
    "scrolled": true
   },
   "outputs": [
    {
     "data": {
      "text/html": [
       "<div>\n",
       "<style scoped>\n",
       "    .dataframe tbody tr th:only-of-type {\n",
       "        vertical-align: middle;\n",
       "    }\n",
       "\n",
       "    .dataframe tbody tr th {\n",
       "        vertical-align: top;\n",
       "    }\n",
       "\n",
       "    .dataframe thead th {\n",
       "        text-align: right;\n",
       "    }\n",
       "</style>\n",
       "<table border=\"1\" class=\"dataframe\">\n",
       "  <thead>\n",
       "    <tr style=\"text-align: right;\">\n",
       "      <th></th>\n",
       "      <th>series_id</th>\n",
       "      <th>new_group_id</th>\n",
       "      <th>surface</th>\n",
       "      <th>angular_velocity_X_range</th>\n",
       "      <th>angular_velocity_X_RMS</th>\n",
       "      <th>angular_velocity_X_std</th>\n",
       "      <th>angular_velocity_X_entropy</th>\n",
       "      <th>angular_velocity_X_zc</th>\n",
       "      <th>angular_velocity_X_wt_0</th>\n",
       "      <th>angular_velocity_X_wt_1</th>\n",
       "      <th>...</th>\n",
       "      <th>linear_acceleration_Z_psd_23</th>\n",
       "      <th>linear_acceleration_Z_psd_24</th>\n",
       "      <th>linear_acceleration_Z_psd_25</th>\n",
       "      <th>linear_acceleration_Z_psd_26</th>\n",
       "      <th>linear_acceleration_Z_psd_27</th>\n",
       "      <th>linear_acceleration_Z_psd_28</th>\n",
       "      <th>linear_acceleration_Z_psd_29</th>\n",
       "      <th>linear_acceleration_Z_psd_30</th>\n",
       "      <th>linear_acceleration_Z_psd_31</th>\n",
       "      <th>linear_acceleration_Z_psd_32</th>\n",
       "    </tr>\n",
       "  </thead>\n",
       "  <tbody>\n",
       "    <tr>\n",
       "      <th>0</th>\n",
       "      <td>0</td>\n",
       "      <td>0</td>\n",
       "      <td>fine_concrete</td>\n",
       "      <td>0.215095</td>\n",
       "      <td>0.038505</td>\n",
       "      <td>0.038656</td>\n",
       "      <td>2.103038</td>\n",
       "      <td>[[0.02294921875]]</td>\n",
       "      <td>0.377277</td>\n",
       "      <td>0.377277</td>\n",
       "      <td>...</td>\n",
       "      <td>0.164744</td>\n",
       "      <td>0.342989</td>\n",
       "      <td>0.393936</td>\n",
       "      <td>0.223555</td>\n",
       "      <td>0.042710</td>\n",
       "      <td>0.129521</td>\n",
       "      <td>0.042984</td>\n",
       "      <td>0.084695</td>\n",
       "      <td>0.176015</td>\n",
       "      <td>0.128751</td>\n",
       "    </tr>\n",
       "    <tr>\n",
       "      <th>1</th>\n",
       "      <td>1</td>\n",
       "      <td>1</td>\n",
       "      <td>concrete</td>\n",
       "      <td>0.408106</td>\n",
       "      <td>0.080713</td>\n",
       "      <td>0.081015</td>\n",
       "      <td>2.005989</td>\n",
       "      <td>[[0.02197265625]]</td>\n",
       "      <td>0.786151</td>\n",
       "      <td>0.786151</td>\n",
       "      <td>...</td>\n",
       "      <td>0.305966</td>\n",
       "      <td>0.795553</td>\n",
       "      <td>0.498815</td>\n",
       "      <td>0.078696</td>\n",
       "      <td>0.241094</td>\n",
       "      <td>0.217906</td>\n",
       "      <td>0.356993</td>\n",
       "      <td>0.234668</td>\n",
       "      <td>0.091813</td>\n",
       "      <td>0.024989</td>\n",
       "    </tr>\n",
       "    <tr>\n",
       "      <th>2</th>\n",
       "      <td>2</td>\n",
       "      <td>2</td>\n",
       "      <td>concrete</td>\n",
       "      <td>0.224680</td>\n",
       "      <td>0.037779</td>\n",
       "      <td>0.037924</td>\n",
       "      <td>1.790616</td>\n",
       "      <td>[[0.02490234375]]</td>\n",
       "      <td>-0.294411</td>\n",
       "      <td>-0.294411</td>\n",
       "      <td>...</td>\n",
       "      <td>0.115046</td>\n",
       "      <td>0.310566</td>\n",
       "      <td>0.434251</td>\n",
       "      <td>0.195666</td>\n",
       "      <td>0.092786</td>\n",
       "      <td>0.059321</td>\n",
       "      <td>0.017007</td>\n",
       "      <td>0.028732</td>\n",
       "      <td>0.094458</td>\n",
       "      <td>0.062473</td>\n",
       "    </tr>\n",
       "    <tr>\n",
       "      <th>3</th>\n",
       "      <td>3</td>\n",
       "      <td>1</td>\n",
       "      <td>concrete</td>\n",
       "      <td>0.872956</td>\n",
       "      <td>0.141700</td>\n",
       "      <td>0.142236</td>\n",
       "      <td>1.894519</td>\n",
       "      <td>[[0.02099609375]]</td>\n",
       "      <td>-0.723993</td>\n",
       "      <td>-0.723993</td>\n",
       "      <td>...</td>\n",
       "      <td>1.352968</td>\n",
       "      <td>0.790827</td>\n",
       "      <td>0.598639</td>\n",
       "      <td>0.484115</td>\n",
       "      <td>0.342526</td>\n",
       "      <td>0.566849</td>\n",
       "      <td>0.161690</td>\n",
       "      <td>0.194927</td>\n",
       "      <td>0.208322</td>\n",
       "      <td>0.054277</td>\n",
       "    </tr>\n",
       "    <tr>\n",
       "      <th>4</th>\n",
       "      <td>4</td>\n",
       "      <td>3</td>\n",
       "      <td>soft_tiles</td>\n",
       "      <td>0.131723</td>\n",
       "      <td>0.028103</td>\n",
       "      <td>0.028215</td>\n",
       "      <td>1.938636</td>\n",
       "      <td>[[0.02001953125]]</td>\n",
       "      <td>0.175733</td>\n",
       "      <td>0.175733</td>\n",
       "      <td>...</td>\n",
       "      <td>0.015533</td>\n",
       "      <td>0.027684</td>\n",
       "      <td>0.033534</td>\n",
       "      <td>0.035684</td>\n",
       "      <td>0.025811</td>\n",
       "      <td>0.008269</td>\n",
       "      <td>0.007491</td>\n",
       "      <td>0.009827</td>\n",
       "      <td>0.012786</td>\n",
       "      <td>0.007157</td>\n",
       "    </tr>\n",
       "  </tbody>\n",
       "</table>\n",
       "<p>5 rows × 1101 columns</p>\n",
       "</div>"
      ],
      "text/plain": [
       "   series_id  new_group_id        surface  angular_velocity_X_range  \\\n",
       "0          0             0  fine_concrete                  0.215095   \n",
       "1          1             1       concrete                  0.408106   \n",
       "2          2             2       concrete                  0.224680   \n",
       "3          3             1       concrete                  0.872956   \n",
       "4          4             3     soft_tiles                  0.131723   \n",
       "\n",
       "   angular_velocity_X_RMS  angular_velocity_X_std  angular_velocity_X_entropy  \\\n",
       "0                0.038505                0.038656                    2.103038   \n",
       "1                0.080713                0.081015                    2.005989   \n",
       "2                0.037779                0.037924                    1.790616   \n",
       "3                0.141700                0.142236                    1.894519   \n",
       "4                0.028103                0.028215                    1.938636   \n",
       "\n",
       "  angular_velocity_X_zc  angular_velocity_X_wt_0  angular_velocity_X_wt_1  \\\n",
       "0     [[0.02294921875]]                 0.377277                 0.377277   \n",
       "1     [[0.02197265625]]                 0.786151                 0.786151   \n",
       "2     [[0.02490234375]]                -0.294411                -0.294411   \n",
       "3     [[0.02099609375]]                -0.723993                -0.723993   \n",
       "4     [[0.02001953125]]                 0.175733                 0.175733   \n",
       "\n",
       "               ...               linear_acceleration_Z_psd_23  \\\n",
       "0              ...                                   0.164744   \n",
       "1              ...                                   0.305966   \n",
       "2              ...                                   0.115046   \n",
       "3              ...                                   1.352968   \n",
       "4              ...                                   0.015533   \n",
       "\n",
       "   linear_acceleration_Z_psd_24  linear_acceleration_Z_psd_25  \\\n",
       "0                      0.342989                      0.393936   \n",
       "1                      0.795553                      0.498815   \n",
       "2                      0.310566                      0.434251   \n",
       "3                      0.790827                      0.598639   \n",
       "4                      0.027684                      0.033534   \n",
       "\n",
       "   linear_acceleration_Z_psd_26  linear_acceleration_Z_psd_27  \\\n",
       "0                      0.223555                      0.042710   \n",
       "1                      0.078696                      0.241094   \n",
       "2                      0.195666                      0.092786   \n",
       "3                      0.484115                      0.342526   \n",
       "4                      0.035684                      0.025811   \n",
       "\n",
       "   linear_acceleration_Z_psd_28  linear_acceleration_Z_psd_29  \\\n",
       "0                      0.129521                      0.042984   \n",
       "1                      0.217906                      0.356993   \n",
       "2                      0.059321                      0.017007   \n",
       "3                      0.566849                      0.161690   \n",
       "4                      0.008269                      0.007491   \n",
       "\n",
       "   linear_acceleration_Z_psd_30  linear_acceleration_Z_psd_31  \\\n",
       "0                      0.084695                      0.176015   \n",
       "1                      0.234668                      0.091813   \n",
       "2                      0.028732                      0.094458   \n",
       "3                      0.194927                      0.208322   \n",
       "4                      0.009827                      0.012786   \n",
       "\n",
       "   linear_acceleration_Z_psd_32  \n",
       "0                      0.128751  \n",
       "1                      0.024989  \n",
       "2                      0.062473  \n",
       "3                      0.054277  \n",
       "4                      0.007157  \n",
       "\n",
       "[5 rows x 1101 columns]"
      ]
     },
     "execution_count": 617,
     "metadata": {},
     "output_type": "execute_result"
    }
   ],
   "source": [
    "df2 = pd.DataFrame(data)\n",
    "df2.head()"
   ]
  },
  {
   "cell_type": "code",
   "execution_count": 618,
   "metadata": {
    "scrolled": true
   },
   "outputs": [
    {
     "name": "stderr",
     "output_type": "stream",
     "text": [
      "/anaconda3/envs/learn-env/lib/python3.6/site-packages/pandas/core/frame.py:3697: SettingWithCopyWarning: \n",
      "A value is trying to be set on a copy of a slice from a DataFrame\n",
      "\n",
      "See the caveats in the documentation: http://pandas.pydata.org/pandas-docs/stable/indexing.html#indexing-view-versus-copy\n",
      "  errors=errors)\n"
     ]
    }
   ],
   "source": [
    "X = df2.drop(labels = ['surface'], axis = 1)\n",
    "y = df2.surface\n",
    "from sklearn.model_selection import train_test_split\n",
    "X_train, X_test, y_train, y_test = train_test_split(X, y, test_size=0.25, random_state=42)\n",
    "X_train.drop(labels = ['new_group_id','series_id'], axis = 1,inplace=True)"
   ]
  },
  {
   "cell_type": "code",
   "execution_count": 619,
   "metadata": {},
   "outputs": [
    {
     "name": "stdout",
     "output_type": "stream",
     "text": [
      "                        precision    recall  f1-score   support\n",
      "\n",
      "                carpet       0.73      0.24      0.36        80\n",
      "              concrete       0.51      0.80      0.62       288\n",
      "         fine_concrete       0.48      0.21      0.29       194\n",
      "            hard_tiles       1.00      0.16      0.27        32\n",
      "hard_tiles_large_space       0.66      0.49      0.56       143\n",
      "              soft_pvc       0.54      0.86      0.66       313\n",
      "            soft_tiles       0.77      0.85      0.81       150\n",
      "                 tiled       0.59      0.42      0.49       194\n",
      "                  wood       0.66      0.40      0.50       235\n",
      "\n",
      "             micro avg       0.58      0.58      0.58      1629\n",
      "             macro avg       0.66      0.49      0.51      1629\n",
      "          weighted avg       0.60      0.58      0.55      1629\n",
      "\n"
     ]
    }
   ],
   "source": [
    "clf = RandomForestClassifier(n_estimators=1000, random_state = 42, n_jobs=-1)\n",
    "clf.fit(X_train, y_train)\n",
    "#print(\"Accuracy on training set is : {}\".format(clf.score(X_train, y_train)))\n",
    "#print(\"Accuracy on test set is : {}\".format(clf.score(X_test, y_test)))\n",
    "y_test_pred = clf.predict(X_test[X_train.columns])\n",
    "print(classification_report(y_test, y_test_pred))"
   ]
  },
  {
   "cell_type": "code",
   "execution_count": 620,
   "metadata": {},
   "outputs": [
    {
     "name": "stderr",
     "output_type": "stream",
     "text": [
      "/anaconda3/envs/learn-env/lib/python3.6/site-packages/pandas/core/generic.py:4405: SettingWithCopyWarning: \n",
      "A value is trying to be set on a copy of a slice from a DataFrame.\n",
      "Try using .loc[row_indexer,col_indexer] = value instead\n",
      "\n",
      "See the caveats in the documentation: http://pandas.pydata.org/pandas-docs/stable/indexing.html#indexing-view-versus-copy\n",
      "  self[name] = value\n"
     ]
    },
    {
     "name": "stdout",
     "output_type": "stream",
     "text": [
      "                        precision    recall  f1-score   support\n",
      "\n",
      "                carpet       1.00      0.39      0.56        80\n",
      "              concrete       0.52      0.85      0.65       288\n",
      "         fine_concrete       0.97      0.37      0.53       194\n",
      "            hard_tiles       0.00      0.00      0.00        32\n",
      "hard_tiles_large_space       0.89      0.92      0.90       143\n",
      "              soft_pvc       0.57      1.00      0.73       313\n",
      "            soft_tiles       0.93      0.97      0.95       150\n",
      "                 tiled       1.00      0.59      0.74       194\n",
      "                  wood       0.91      0.34      0.49       235\n",
      "\n",
      "             micro avg       0.69      0.69      0.69      1629\n",
      "             macro avg       0.75      0.60      0.62      1629\n",
      "          weighted avg       0.78      0.69      0.67      1629\n",
      "\n"
     ]
    },
    {
     "name": "stderr",
     "output_type": "stream",
     "text": [
      "/anaconda3/envs/learn-env/lib/python3.6/site-packages/sklearn/metrics/classification.py:1143: UndefinedMetricWarning: Precision and F-score are ill-defined and being set to 0.0 in labels with no predicted samples.\n",
      "  'precision', 'predicted', average, warn_for)\n",
      "/anaconda3/envs/learn-env/lib/python3.6/site-packages/sklearn/metrics/classification.py:1143: UndefinedMetricWarning: Precision and F-score are ill-defined and being set to 0.0 in labels with no predicted samples.\n",
      "  'precision', 'predicted', average, warn_for)\n",
      "/anaconda3/envs/learn-env/lib/python3.6/site-packages/sklearn/metrics/classification.py:1143: UndefinedMetricWarning: Precision and F-score are ill-defined and being set to 0.0 in labels with no predicted samples.\n",
      "  'precision', 'predicted', average, warn_for)\n"
     ]
    }
   ],
   "source": [
    "X_classified = X_test.copy()\n",
    "X_classified['surface']  = y_test_pred\n",
    "groups = X_classified.groupby('new_group_id')\n",
    "reclassified_dfs = []\n",
    "for name,group in groups:\n",
    "    surface = group.surface.value_counts().index[0]\n",
    "    group.surface = surface\n",
    "    reclassified_dfs.append(group)\n",
    "reclassified = pd.concat(reclassified_dfs)\n",
    "X_classified.set_index('series_id',inplace = True)\n",
    "reclassified.set_index('series_id',inplace=True)\n",
    "X_classified['new_surface'] = reclassified.surface\n",
    "print(classification_report(y_test, X_classified.new_surface))"
   ]
  },
  {
   "cell_type": "code",
   "execution_count": 621,
   "metadata": {},
   "outputs": [],
   "source": [
    "unclassified_data = sorted_data[sorted_data.surface == 'no_surface']\n",
    "g = unclassified_data.groupby('series_id')\n",
    "series = list(g.groups.keys())\n",
    "data = {}\n",
    "data['series_id'] = []\n",
    "data['new_group_id'] = []\n",
    "data['surface'] = []\n",
    "for s_key in series:\n",
    "    data['series_id'].append(s_key)\n",
    "    data['new_group_id'].append(g.get_group(s_key)['new_group_id'].iloc[0])\n",
    "    data['surface'].append(g.get_group(s_key)['surface'].iloc[0])\n",
    "    for feature in features:\n",
    "        # Get signal\n",
    "        signal = g.get_group(s_key)[feature]\n",
    "        signald = signal.diff(1).dropna()\n",
    "        # Set dictionary keys for time-based features\n",
    "        range_key = '{0}_range'.format(feature)\n",
    "        RMS_key = '{0}_RMS'.format(feature)\n",
    "        std_key = '{0}_std'.format(feature)\n",
    "        entropy_key = '{0}_entropy'.format(feature)\n",
    "        zc_key = '{0}_zc'.format(feature)\n",
    "        if range_key not in data.keys():\n",
    "            data[range_key] = []\n",
    "            data[RMS_key] = []\n",
    "            data[std_key] = []\n",
    "            data[entropy_key] = []\n",
    "            data[zc_key] = []\n",
    "        # Write time-based features\n",
    "        data[range_key].append(signald.max()-signald.min())\n",
    "        data[RMS_key].append(rms(signald))\n",
    "        data[std_key].append(signald.std())\n",
    "        data[zc_key].append(zero_crossing_rate(np.array(signald)))\n",
    "        # Calculate entropy (PSD is needed for entropy)\n",
    "        _,psd_values = welch(signal, nperseg = 64)\n",
    "        psd_values_normalized = psd_values/psd_values.sum()\n",
    "        entropy = -np.sum([i*np.log(i) for i in psd_values_normalized])\n",
    "        data[entropy_key].append(entropy)\n",
    "        coeffs = pywt.wavedec(signal,'bior1.3',1)\n",
    "        coeffs_ravel = pywt.ravel_coeffs(coeffs)\n",
    "        # Store coeff values\n",
    "        for i,value in enumerate(coeffs_ravel[0]):\n",
    "            # Store datum\n",
    "            y_key = '{0}_wt_{1}'.format(feature,i)\n",
    "            if y_key not in data.keys():\n",
    "                data[y_key] = []\n",
    "            data[y_key].append(value)\n",
    "        # Store psd values\n",
    "        for i,value in enumerate(psd_values):\n",
    "            # Store datum\n",
    "            y_key = '{0}_psd_{1}'.format(feature,i)\n",
    "            if y_key not in data.keys():\n",
    "                data[y_key] = []\n",
    "            data[y_key].append(value)"
   ]
  },
  {
   "cell_type": "code",
   "execution_count": 622,
   "metadata": {
    "scrolled": true
   },
   "outputs": [],
   "source": [
    "df2 = pd.DataFrame(data)"
   ]
  },
  {
   "cell_type": "code",
   "execution_count": 623,
   "metadata": {},
   "outputs": [
    {
     "name": "stderr",
     "output_type": "stream",
     "text": [
      "/anaconda3/envs/learn-env/lib/python3.6/site-packages/pandas/core/generic.py:4405: SettingWithCopyWarning: \n",
      "A value is trying to be set on a copy of a slice from a DataFrame.\n",
      "Try using .loc[row_indexer,col_indexer] = value instead\n",
      "\n",
      "See the caveats in the documentation: http://pandas.pydata.org/pandas-docs/stable/indexing.html#indexing-view-versus-copy\n",
      "  self[name] = value\n"
     ]
    }
   ],
   "source": [
    "X = df2.drop(labels = ['surface'], axis = 1)\n",
    "y_test_pred = clf.predict(X[X_train.columns])\n",
    "X_classified = X.copy()\n",
    "X_classified['surface']  = y_test_pred\n",
    "groups = X_classified.groupby('new_group_id')\n",
    "reclassified_dfs = []\n",
    "for name,group in groups:\n",
    "    surface = group.surface.value_counts().index[0]\n",
    "    group.surface = surface\n",
    "    reclassified_dfs.append(group)"
   ]
  },
  {
   "cell_type": "code",
   "execution_count": 624,
   "metadata": {},
   "outputs": [],
   "source": [
    "reclassified = pd.concat(reclassified_dfs)"
   ]
  },
  {
   "cell_type": "code",
   "execution_count": 625,
   "metadata": {},
   "outputs": [],
   "source": [
    "a = sorted_data.copy()\n",
    "for index,row in reclassified.iterrows():\n",
    "    a.loc[a.series_id==row.series_id, 'surface'] = row.surface"
   ]
  },
  {
   "cell_type": "code",
   "execution_count": 626,
   "metadata": {},
   "outputs": [
    {
     "data": {
      "text/plain": [
       "soft_pvc                  207616\n",
       "concrete                  199040\n",
       "wood                      117888\n",
       "tiled                     115840\n",
       "fine_concrete             102528\n",
       "soft_tiles                 89216\n",
       "hard_tiles_large_space     77440\n",
       "carpet                     50048\n",
       "hard_tiles                 16512\n",
       "Name: surface, dtype: int64"
      ]
     },
     "execution_count": 626,
     "metadata": {},
     "output_type": "execute_result"
    }
   ],
   "source": [
    "a.surface.value_counts()"
   ]
  },
  {
   "cell_type": "code",
   "execution_count": 627,
   "metadata": {},
   "outputs": [],
   "source": [
    "X_test_matched = a.loc[a.series_id > df.series_id.max()]"
   ]
  },
  {
   "cell_type": "code",
   "execution_count": 628,
   "metadata": {},
   "outputs": [
    {
     "data": {
      "text/html": [
       "<div>\n",
       "<style scoped>\n",
       "    .dataframe tbody tr th:only-of-type {\n",
       "        vertical-align: middle;\n",
       "    }\n",
       "\n",
       "    .dataframe tbody tr th {\n",
       "        vertical-align: top;\n",
       "    }\n",
       "\n",
       "    .dataframe thead th {\n",
       "        text-align: right;\n",
       "    }\n",
       "</style>\n",
       "<table border=\"1\" class=\"dataframe\">\n",
       "  <thead>\n",
       "    <tr style=\"text-align: right;\">\n",
       "      <th></th>\n",
       "      <th>series_id</th>\n",
       "      <th>surface</th>\n",
       "    </tr>\n",
       "  </thead>\n",
       "  <tbody>\n",
       "    <tr>\n",
       "      <th>0</th>\n",
       "      <td>0</td>\n",
       "      <td>hard_tiles_large_space</td>\n",
       "    </tr>\n",
       "    <tr>\n",
       "      <th>1</th>\n",
       "      <td>1</td>\n",
       "      <td>concrete</td>\n",
       "    </tr>\n",
       "    <tr>\n",
       "      <th>2</th>\n",
       "      <td>2</td>\n",
       "      <td>tiled</td>\n",
       "    </tr>\n",
       "    <tr>\n",
       "      <th>3</th>\n",
       "      <td>3</td>\n",
       "      <td>carpet</td>\n",
       "    </tr>\n",
       "    <tr>\n",
       "      <th>4</th>\n",
       "      <td>4</td>\n",
       "      <td>soft_tiles</td>\n",
       "    </tr>\n",
       "  </tbody>\n",
       "</table>\n",
       "</div>"
      ],
      "text/plain": [
       "   series_id                 surface\n",
       "0          0  hard_tiles_large_space\n",
       "1          1                concrete\n",
       "2          2                   tiled\n",
       "3          3                  carpet\n",
       "4          4              soft_tiles"
      ]
     },
     "execution_count": 628,
     "metadata": {},
     "output_type": "execute_result"
    }
   ],
   "source": [
    "groups = X_test_matched.groupby('orig_id')\n",
    "data = {'series_id':[],'surface':[]}\n",
    "for name, group in groups:\n",
    "    data['series_id'].append(name)\n",
    "    data['surface'].append(group.surface.iloc[0])\n",
    "output = pd.DataFrame(data)\n",
    "output.head()"
   ]
  },
  {
   "cell_type": "code",
   "execution_count": 629,
   "metadata": {},
   "outputs": [],
   "source": [
    "output.to_csv(path_or_buf = 'Submission3.csv', header = ['series_id','surface'],index=False)"
   ]
  }
 ],
 "metadata": {
  "kernelspec": {
   "display_name": "learn-env",
   "language": "python",
   "name": "learn-env"
  },
  "language_info": {
   "codemirror_mode": {
    "name": "ipython",
    "version": 3
   },
   "file_extension": ".py",
   "mimetype": "text/x-python",
   "name": "python",
   "nbconvert_exporter": "python",
   "pygments_lexer": "ipython3",
   "version": "3.6.6"
  }
 },
 "nbformat": 4,
 "nbformat_minor": 2
}
